{
  "nbformat": 4,
  "nbformat_minor": 0,
  "metadata": {
    "kernelspec": {
      "display_name": "Python 3",
      "language": "python",
      "name": "python3"
    },
    "language_info": {
      "codemirror_mode": {
        "name": "ipython",
        "version": 3
      },
      "file_extension": ".py",
      "mimetype": "text/x-python",
      "name": "python",
      "nbconvert_exporter": "python",
      "pygments_lexer": "ipython3",
      "version": "3.6.8"
    },
    "colab": {
      "name": "STAT 305 Notebook 1. The Bias of an Estimator",
      "provenance": [],
      "collapsed_sections": [],
      "include_colab_link": true
    }
  },
  "cells": [
    {
      "cell_type": "markdown",
      "metadata": {
        "id": "view-in-github",
        "colab_type": "text"
      },
      "source": [
        "<a href=\"https://colab.research.google.com/github/dlsun/Stat305-S20/blob/master/colab/notebooks/1_The_Bias_of_an_Estimator.ipynb\" target=\"_parent\"><img src=\"https://colab.research.google.com/assets/colab-badge.svg\" alt=\"Open In Colab\"/></a>"
      ]
    },
    {
      "cell_type": "markdown",
      "metadata": {
        "id": "lOLjE3UjnssK",
        "colab_type": "text"
      },
      "source": [
        "This lesson is the first in a series of lessons that explain how probability is applied to statistics and data science.\n",
        "\n",
        "Save a copy of this notebook in your own Google Drive (File > Save a copy in Drive).\n",
        "\n",
        "This notebook consists of a mix of \n",
        "\n",
        "1. explanations\n",
        "2. code cells that you should run\n",
        "3. questions that you should answer\n",
        "\n",
        "I encourage you to work through this notebook with a partner so that you can discuss your answers. You should meet over an application such as Discord or Zoom. One person can share their screen with this notebook open."
      ]
    },
    {
      "cell_type": "code",
      "metadata": {
        "id": "qbP3w12k4Rpi",
        "colab_type": "code",
        "colab": {}
      },
      "source": [
        "# This is a code cell.\n",
        "# To run the code in this cell, click on it and press the \"Play\" button.\n",
        "!pip install -q symbulate\n",
        "from symbulate import *\n",
        "import matplotlib.pyplot as plt"
      ],
      "execution_count": null,
      "outputs": []
    },
    {
      "cell_type": "markdown",
      "metadata": {
        "id": "VpkPaE553_80",
        "colab_type": "text"
      },
      "source": [
        "# Example 1: Skew Dice\n",
        "\n",
        "Suppose we have skew dice, shown below, and we want to know the probability of rolling an ace, $p_1$. The different faces may not all be equally likely, so $p_1$ is not necessarily $1/6$.\n",
        "\n",
        "<img src=\"https://images-na.ssl-images-amazon.com/images/I/41fdyCI4IoL._AC_SX425_.jpg\" height=\"150px\"/>\n",
        "\n",
        "How do we **estimate** $p_1$? We collect some data. We roll the skew die 50 times and observe that aces come up 10 times."
      ]
    },
    {
      "cell_type": "markdown",
      "metadata": {
        "id": "QRDVizZlSCgn",
        "colab_type": "text"
      },
      "source": [
        "## Probability vs. Statistics\n",
        "\n",
        "By now, you are very accustomed to _probability questions_, where you know the value of parameters like $p_1$ and asked to calculate a probability. \n",
        "\n",
        "**Question 1.** Suppose $p_1 = 1/6$. If we roll the die 50 times, what is the probability that we get (exactly) 10 aces?"
      ]
    },
    {
      "cell_type": "markdown",
      "metadata": {
        "id": "rV17dBsWTfkr",
        "colab_type": "text"
      },
      "source": [
        "**YOUR ANSWER HERE**"
      ]
    },
    {
      "cell_type": "markdown",
      "metadata": {
        "id": "1NB8axD8TkGW",
        "colab_type": "text"
      },
      "source": [
        "In the _probability question_ above, the probability model was specified exactly. That is, we knew that that number of aces would be binomial, and we knew all of the parameters of that binomial distribution (e.g., $p_1$). But we had no data; the 50 rolls were hypothetical."
      ]
    },
    {
      "cell_type": "markdown",
      "metadata": {
        "id": "DYbXpkiXTsIT",
        "colab_type": "text"
      },
      "source": [
        "A _statistics question_ is precisely the opposite of a _probability question_. In statistics, we have data (e.g., 10 aces in 50 rolls), but there are parameters of our model that we do not know (e.g., $p_1$). We want to use the data to help us estimate those parameters.\n",
        "\n",
        "In other words, probability and statistics are inverses of one another, as illustrated in the following diagram.\n",
        "\n",
        "![](https://github.com/dlsun/Stat425F19/blob/master/notes/img/prob_stat.png?raw=1)"
      ]
    },
    {
      "cell_type": "markdown",
      "metadata": {
        "id": "kG3mq7Py9Wts",
        "colab_type": "text"
      },
      "source": [
        "# Estimates and Estimators\n",
        "\n",
        "You might intuitively guess that a good estimate of $p_1$ based on the 10 aces we observed is \n",
        "$$ \\hat p_1 = \\frac{10}{50} = 0.20. $$\n",
        "But this is not the only possible estimate. Some statisticians argue that you should add four \"fake\" observations (two aces and two non-aces) to the data before calculating the proportion, in which case the estimate is:\n",
        "$$ \\tilde p_1 = \\frac{10 + 2}{50 + 4} = 0.222. $$\n",
        "Which estimate is better? How do we decide?"
      ]
    },
    {
      "cell_type": "markdown",
      "metadata": {
        "id": "Td3Eac18YES0",
        "colab_type": "text"
      },
      "source": [
        "First, it is impossible to say how good an individual estimate is because there is always the chance that the outcome we happened to observe is an anomaly.\n",
        "\n",
        "For example, our estimate of $\\hat p_1 = 0.20$ would be quite good if $p_1 = 0.18$. But what if $p_1 = 0.99$? It is still (theoretically) possible to observe 10 aces in 50 rolls, in which case our estimate of $\\hat p_1 = 0.20$ would be terrible."
      ]
    },
    {
      "cell_type": "markdown",
      "metadata": {
        "id": "aKF_XKtJ_f_d",
        "colab_type": "text"
      },
      "source": [
        "Since we do not know the value of the true $p_1$, there is no way to tell whether an individual estimate is good or not. But probability can help us evaluate our _procedure_ for coming up with estimates.\n",
        "\n",
        "Notice that $\\hat p_1$ and $\\tilde p_1$ are random variables, since they depend on the random outcome of the dice rolls. In other words, they describe a _procedure_ for coming up with an estimate. If we had gotten a different number of aces, then the values of $\\hat p_1$ and $\\tilde p_1$ would be slightly different. The definitions of $\\hat p_1$ and $\\tilde p_1$ specify how to obtain those values from the data.\n",
        "\n",
        "To be precise, we know that the number of aces, $X$, is a $\\text{Binomial}(n=50, p_1)$ random variable. This is the data. The estimators $\\hat p_1$ and $\\tilde p_1$ are defined in terms of the data as \n",
        "\\begin{align*}\n",
        "\\hat p_1 &= \\frac{X}{50} \\\\\n",
        "\\tilde p_1 &= \\frac{X + 2}{54}.\n",
        "\\end{align*}\n",
        "\n",
        "When $\\hat p_1$ and $\\tilde p_1$ are regarded as random variables (instead of as specific values), we will call them **estimators**.\n"
      ]
    },
    {
      "cell_type": "markdown",
      "metadata": {
        "id": "FGjhxYnrxChx",
        "colab_type": "text"
      },
      "source": [
        "# Simulating Estimators and Bias"
      ]
    },
    {
      "cell_type": "markdown",
      "metadata": {
        "id": "XBUJMy0QBnS6",
        "colab_type": "text"
      },
      "source": [
        "First, let's simulate the distributions of the estimators $\\hat p_1$ and $\\tilde p_1$ and compare them. To do so, we need to assume a value of $p_1$. Let's start by assuming $p_1 = 0.10$. "
      ]
    },
    {
      "cell_type": "code",
      "metadata": {
        "id": "RqV2VZlB9WkM",
        "colab_type": "code",
        "colab": {}
      },
      "source": [
        "p1 = 0.1\n",
        "X = RV(Binomial(n=50, p=p1))\n",
        "\n",
        "# Simulate and plot the two estimators.\n",
        "est1 = (X / 50).sim(10000)\n",
        "est2 = ((X + 2) / 54).sim(10000)\n",
        "\n",
        "est1.plot(type=\"bar\")\n",
        "est2.plot(type=\"bar\")\n",
        "plt.legend([\"Estimator 1\", \"Estimator 2\"]);"
      ],
      "execution_count": null,
      "outputs": []
    },
    {
      "cell_type": "markdown",
      "metadata": {
        "id": "Y95HRHcUDBJP",
        "colab_type": "text"
      },
      "source": [
        "Since the data came from a model where $p_1 = 0.10$, the ideal estimator would be \"close\" to $0.10$. Clearly, both $\\hat p_1$ and $\\tilde p_1$ vary quite a bit around $p_1$. However, _on average_, they are both close to $p_1$, with $\\hat p_1$ being closer.\n",
        "\n"
      ]
    },
    {
      "cell_type": "code",
      "metadata": {
        "id": "UoIjX-KzoHXP",
        "colab_type": "code",
        "colab": {}
      },
      "source": [
        "est1.mean(), est2.mean()"
      ],
      "execution_count": null,
      "outputs": []
    },
    {
      "cell_type": "markdown",
      "metadata": {
        "id": "I4or7bRuoOc6",
        "colab_type": "text"
      },
      "source": [
        "The average value of a random variable is its _expected value_. So, from our simulation, it seems that $E[\\hat p_1]$ is a bit closer to the truth than $E[\\tilde p_1]$.\n",
        "\n",
        "The discrepancy between the expected value of an estimator, $E[\\hat\\theta]$ and the true value of the parameter $\\theta$ is called its bias.\n",
        "$$ \\text{bias of $\\hat\\theta$} = E[\\hat\\theta] - \\theta. $$\n",
        "We generally want bias to be as close to 0 as possible.\n",
        "\n",
        "Based on our simulations, we can approximate the bias of our estimators at $p_1 = 0.10$.\n",
        "\\begin{align*}\n",
        "\\text{bias of $\\hat p_1$ (at $p_1=0.10$)} &= E[\\hat p_1] - 0.10 \\approx 0 \\\\\n",
        "\\text{bias of $\\tilde p_1$ (at $p_1=0.10$)} &= E[\\tilde p_1] - 0.10 \\approx 0.129 \\\\\n",
        "\\end{align*}\n"
      ]
    },
    {
      "cell_type": "markdown",
      "metadata": {
        "id": "ynnMTXArDGfh",
        "colab_type": "text"
      },
      "source": [
        "The simulation assumed that $p_1 = 0.10$. But we do not know what $p_1$ is! The next question asks you to repeat the above steps for other values of $p_1$.\n",
        "\n",
        "**Question 2.** Try at least 10 different values of $p_1$ between 0 and 1. Calculate the bias of the two estimators $\\hat p_1$ and $\\tilde p_1$ at these values of $p_1$. What do you notice?"
      ]
    },
    {
      "cell_type": "code",
      "metadata": {
        "id": "dOEH93r5snMM",
        "colab_type": "code",
        "colab": {}
      },
      "source": [
        "# YOUR CODE HERE"
      ],
      "execution_count": null,
      "outputs": []
    },
    {
      "cell_type": "markdown",
      "metadata": {
        "id": "BL5JvzCBsm30",
        "colab_type": "text"
      },
      "source": [
        "**YOUR ANSWER HERE**"
      ]
    },
    {
      "cell_type": "markdown",
      "metadata": {
        "id": "b-MZs9FQtKfG",
        "colab_type": "text"
      },
      "source": [
        "Clearly, simulation is a poor way to answer this question, for several reasons:\n",
        "\n",
        "- There are infinitely many possible values of $p_1$, and we can't possibly try all of them.\n",
        "- Because simulations are random, we can only ever calculate the _approximate_ bias from simulations.\n",
        "\n",
        "Fortunately, for these two estimators, we can obtain the exact bias."
      ]
    },
    {
      "cell_type": "markdown",
      "metadata": {
        "id": "sVLzB4TYusJE",
        "colab_type": "text"
      },
      "source": [
        "**Question 3.** Calculate $E[\\hat p_1]$ and $E[\\tilde p_1]$ using properties of expected value. (Your answer should depend on $p_1$.) Use this to calculate the bias exactly, for all values of $p_1$."
      ]
    },
    {
      "cell_type": "markdown",
      "metadata": {
        "id": "v4hXo53HuNWd",
        "colab_type": "text"
      },
      "source": [
        "**YOUR ANSWER HERE**"
      ]
    },
    {
      "cell_type": "markdown",
      "metadata": {
        "id": "zxFdAhdsxJJC",
        "colab_type": "text"
      },
      "source": [
        "Hopefully you noticed that the bias of $\\hat p_1$ is 0, no matter what $p_1$ is. An estimator with a bias of 0 for all values of the parameter is called **unbiased**."
      ]
    },
    {
      "cell_type": "markdown",
      "metadata": {
        "id": "GASbkXGzvB9n",
        "colab_type": "text"
      },
      "source": [
        "# Submission Instructions\n",
        "\n",
        "1. [Go here](https://canvas.calpoly.edu/courses/25458/groups), and add you and your partner (if applicable) to one of the STAT 305 Groups.\n",
        "2. Export this Colab notebook to PDF. Easiest way is File > Print > Save as PDF.\n",
        "3. Double check that the PDF rendered properly (i.e., nothing is cut off).\n",
        "4. Upload the PDF [to Canvas](https://canvas.calpoly.edu/courses/25458/assignments/111116). Only one of you needs to upload the PDF."
      ]
    }
  ]
}
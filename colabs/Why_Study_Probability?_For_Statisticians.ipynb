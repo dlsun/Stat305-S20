{
  "nbformat": 4,
  "nbformat_minor": 0,
  "metadata": {
    "kernelspec": {
      "display_name": "Python 3",
      "language": "python",
      "name": "python3"
    },
    "language_info": {
      "codemirror_mode": {
        "name": "ipython",
        "version": 3
      },
      "file_extension": ".py",
      "mimetype": "text/x-python",
      "name": "python",
      "nbconvert_exporter": "python",
      "pygments_lexer": "ipython3",
      "version": "3.6.8"
    },
    "colab": {
      "name": "Why Study Probability? For Statisticians",
      "provenance": [],
      "collapsed_sections": []
    }
  },
  "cells": [
    {
      "cell_type": "markdown",
      "metadata": {
        "id": "lOLjE3UjnssK",
        "colab_type": "text"
      },
      "source": [
        "What's probability got to do with statistics? Isn't probability about games of chance, while statistics is about data analysis? This lesson will try to explain how probability and statistics are connected.\n",
        "\n",
        "You should read the explanations and run the code cells in order. I encourage you to skim the code, but don't worry if you don't understand it. Please do not hesitate to reach out to us if you have any questions!\n"
      ]
    },
    {
      "cell_type": "code",
      "metadata": {
        "id": "qbP3w12k4Rpi",
        "colab_type": "code",
        "colab": {}
      },
      "source": [
        "# This is a code cell.\n",
        "# To run the code in this cell, click on it and press the \"Play\" button.\n",
        "!pip install -q symbulate\n",
        "from symbulate import *\n",
        "import matplotlib.pyplot as plt\n",
        "\n",
        "# This cell is not very exciting; it just loads a library."
      ],
      "execution_count": null,
      "outputs": []
    },
    {
      "cell_type": "markdown",
      "metadata": {
        "id": "BodOHm_YzGmI",
        "colab_type": "text"
      },
      "source": [
        "# Probability\n",
        "\n",
        "<img src=\"https://wherethewindsblow.com/wp-content/uploads/2015/04/White-Six-Sided-Dice.jpg\" height=\"200px\"/> \n",
        "\n",
        "Suppose we have fair dice, like the ones shown above. A classic probability question is: \"What is the probability that in 50 rolls of a fair die, we will get exactly 10 aces?\"\n",
        "\n",
        "Later in the course, we will learn how to calculate probabilities like this. For now, we will simulate this probability."
      ]
    },
    {
      "cell_type": "code",
      "metadata": {
        "id": "6289_kwP2Iq1",
        "colab_type": "code",
        "colab": {}
      },
      "source": [
        "# Simulate 50 rolls of a die by drawing 50 times from a box \n",
        "# with tickets labeled 1-6\n",
        "model = BoxModel([1, 2, 3, 4, 5, 6], size=50, replace=True)\n",
        "\n",
        "# Repeat simulation 10000 times\n",
        "sims = model.sim(10000)\n",
        "\n",
        "# Print out the results\n",
        "sims"
      ],
      "execution_count": null,
      "outputs": []
    },
    {
      "cell_type": "code",
      "metadata": {
        "id": "K-QywF_p21gi",
        "colab_type": "code",
        "colab": {}
      },
      "source": [
        "# Count the number of aces in each simulation.\n",
        "number_of_aces = sims.apply(count_eq(1))\n",
        "number_of_aces"
      ],
      "execution_count": null,
      "outputs": []
    },
    {
      "cell_type": "code",
      "metadata": {
        "id": "nM_iT5LI3o6z",
        "colab_type": "code",
        "colab": {}
      },
      "source": [
        "# Tabulate the outcomes to determine how often we had exactly 10 aces\n",
        "number_of_aces.tabulate()"
      ],
      "execution_count": null,
      "outputs": []
    },
    {
      "cell_type": "markdown",
      "metadata": {
        "id": "UlieELlE6YUm",
        "colab_type": "text"
      },
      "source": [
        "The probability of getting exactly 10 aces in 50 rolls is about 11.5%. "
      ]
    },
    {
      "cell_type": "markdown",
      "metadata": {
        "id": "VpkPaE553_80",
        "colab_type": "text"
      },
      "source": [
        "# Statistics\n",
        "\n",
        "<img src=\"https://images-na.ssl-images-amazon.com/images/I/41fdyCI4IoL._AC_SX425_.jpg\" height=\"150px\"/>\n",
        "\n",
        "Now suppose that we have skew dice, like the ones shown above. In general, the different faces of a skew die are not all equally likely. The probability $p_1$ of an ace is not necessarily $1/6$.\n",
        "\n",
        "To get information about $p_1$, we collect data by rolling the die 50 times. In those 50 rolls, we got 10 aces. A statistician might use this data to answer questions like:\n",
        "\n",
        "- What is a good estimate of $p_1$?\n",
        "- What is a confidence interval for $p_1$?\n",
        "- Can we reject the null hypothesis that $p_1 = 1/6$?"
      ]
    },
    {
      "cell_type": "markdown",
      "metadata": {
        "id": "kG3mq7Py9Wts",
        "colab_type": "text"
      },
      "source": [
        "# Using Probability in Statistics\n",
        "\n",
        "You might intuitively guess that a good estimate of $p_1$ based on the data we observed is \n",
        "$$ \\hat p_1 = \\frac{10}{50} = 0.20. $$\n",
        "But this is not the only possible estimate. Some statisticians argue that you should add four \"fake\" observations (two aces and two non-aces) to the data before calculating the proportion, in which case the estimate is:\n",
        "$$ \\tilde p_1 = \\frac{10 + 2}{50 + 4} = 0.222. $$\n",
        "Which data analysis is more correct? How do we decide?"
      ]
    },
    {
      "cell_type": "markdown",
      "metadata": {
        "id": "aKF_XKtJ_f_d",
        "colab_type": "text"
      },
      "source": [
        "We can let probability help us decide. If we were to roll the die another 50 times, the data would come out differently and the estimates would be different. The key is to use probability to study how the estimates vary."
      ]
    },
    {
      "cell_type": "markdown",
      "metadata": {
        "id": "XBUJMy0QBnS6",
        "colab_type": "text"
      },
      "source": [
        "For now, let's simulate what happens. In order to conduct the simulation, we need to specify the probabilities of the different faces on the skew die. Since these probabilities are unknown (that's why we collected the data in the first place!), we will choose them arbitrarily, setting $p_1 = 0.11$. Now, let's compare our two estimators:\n",
        "\n",
        "- estimator 1: $\\hat p_1$, which simply takes the proportion of aces out of 50\n",
        "- estimator 2: $\\tilde p_1$, which adds 4 fake observations to the data before taking the proportion of aces out of 54."
      ]
    },
    {
      "cell_type": "code",
      "metadata": {
        "id": "RqV2VZlB9WkM",
        "colab_type": "code",
        "colab": {}
      },
      "source": [
        "model = BoxModel([1, 2, 3, 4, 5, 6], \n",
        "                 probs=[0.11, 0.34, 0.15, 0.10, 0.20, 0.10],\n",
        "                 size=50, replace=True)\n",
        "\n",
        "def estimator_1(data):\n",
        "  n_aces = data.count_eq(1)\n",
        "  n_rolls = len(data)\n",
        "  return n_aces / n_rolls\n",
        "\n",
        "def estimator_2(data):\n",
        "  n_aces = data.count_eq(1)\n",
        "  n_rolls = len(data)\n",
        "  return (n_aces + 2) / (n_rolls + 4)\n",
        "\n",
        "# Simulate and plot the two estimators.\n",
        "RV(model, estimator_1).sim(10000).plot(type=\"bar\")\n",
        "RV(model, estimator_2).sim(10000).plot(type=\"bar\")\n",
        "plt.legend([\"Estimator 1\", \"Estimator 2\"]);"
      ],
      "execution_count": null,
      "outputs": []
    },
    {
      "cell_type": "markdown",
      "metadata": {
        "id": "Y95HRHcUDBJP",
        "colab_type": "text"
      },
      "source": [
        "Remember, the data came from a model where $p_1 = 0.11$, so it is good that both estimators are somewhat close to $0.11$. Neither estimator ever produced an estimate of exactly $0.11$, so we compare how the two estimators varied around $0.11$.\n",
        "\n",
        "Estimator 1 appears to be more symmetric around $0.11$, while Estimator 2 may be slightly less variable. We will make all of this precise later in this course."
      ]
    },
    {
      "cell_type": "markdown",
      "metadata": {
        "id": "ynnMTXArDGfh",
        "colab_type": "text"
      },
      "source": [
        "**Challenge:** Modify the probabilities in the simulation above so that $p_1 = 0.30$. (Be sure to adjust the probabilities of the other 5 faces so that they add up to $1$.) What happens to the two estimators?"
      ]
    },
    {
      "cell_type": "markdown",
      "metadata": {
        "id": "DCX9Crvqx2TH",
        "colab_type": "text"
      },
      "source": [
        "# Probability vs. Statistics\n",
        "\n",
        "In statistics, we analyze data by assuming that the process that generated the data is random. For instance, in the previous example, the data was generated by rolling dice.\n",
        "\n",
        "- In probability, we know the model and want to know what kind of data is likely to be generated.\n",
        "- In statistics, we have observed the data and want to answer questions about the model that generated it.\n",
        "\n",
        "In other words, probability and statistical inference are the opposites of one another, as shown in the following diagram.\n",
        "\n",
        "![](https://github.com/dlsun/Stat425F19/blob/master/notes/img/prob_stat.png?raw=1)"
      ]
    }
  ]
}
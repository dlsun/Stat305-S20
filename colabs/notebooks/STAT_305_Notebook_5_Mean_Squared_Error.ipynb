{
  "nbformat": 4,
  "nbformat_minor": 0,
  "metadata": {
    "kernelspec": {
      "display_name": "Python 3",
      "language": "python",
      "name": "python3"
    },
    "language_info": {
      "codemirror_mode": {
        "name": "ipython",
        "version": 3
      },
      "file_extension": ".py",
      "mimetype": "text/x-python",
      "name": "python",
      "nbconvert_exporter": "python",
      "pygments_lexer": "ipython3",
      "version": "3.6.8"
    },
    "colab": {
      "name": "STAT 305 Notebook 5. Mean-Squared Error",
      "provenance": [],
      "collapsed_sections": [],
      "include_colab_link": true
    }
  },
  "cells": [
    {
      "cell_type": "markdown",
      "metadata": {
        "id": "view-in-github",
        "colab_type": "text"
      },
      "source": [
        "<a href=\"https://colab.research.google.com/github/dlsun/Stat305-S20/blob/master/colabs/notebooks/STAT_305_Notebook_5_Mean_Squared_Error.ipynb\" target=\"_parent\"><img src=\"https://colab.research.google.com/assets/colab-badge.svg\" alt=\"Open In Colab\"/></a>"
      ]
    },
    {
      "cell_type": "markdown",
      "metadata": {
        "id": "lOLjE3UjnssK",
        "colab_type": "text"
      },
      "source": [
        "I encourage you to work through this notebook with a partner so that you can discuss your answers. You should meet over an application such as Discord or Zoom. One person can share their screen with this notebook open."
      ]
    },
    {
      "cell_type": "code",
      "metadata": {
        "id": "qbP3w12k4Rpi",
        "colab_type": "code",
        "colab": {}
      },
      "source": [
        "# This is a code cell.\n",
        "# To run the code in this cell, click on it and press the \"Play\" button.\n",
        "!pip install -q symbulate\n",
        "from symbulate import *\n",
        "\n",
        "import numpy as np\n",
        "import matplotlib.pyplot as plt"
      ],
      "execution_count": null,
      "outputs": []
    },
    {
      "cell_type": "markdown",
      "metadata": {
        "id": "Ebpdf69uX2dp",
        "colab_type": "text"
      },
      "source": [
        "# Mean-Squared Error\n",
        "\n",
        "In the last notebook, we saw that among _unbiased_ estimators, the one with the smallest variance is preferred, since it will be closest to the parameter on average. \n",
        "\n",
        "But what if the estimators are biased? For example, in Example 1, we considered two estimators of a binomial proportion $p_1$:\n",
        "\n",
        "\\begin{align*}\n",
        "\\hat p_1 &= \\frac{X}{n} & \\tilde p_1 &= \\frac{X + 2}{n + 4}.\n",
        "\\end{align*}\n",
        "\n",
        "We saw that $\\hat p_1$ is unbiased, but $\\tilde p_1$ is biased. How do we decide which of these two estimators is better?"
      ]
    },
    {
      "cell_type": "markdown",
      "metadata": {
        "id": "HypfGgglQbJ3",
        "colab_type": "text"
      },
      "source": [
        "If we want the estimator that comes closest to $\\theta$ on average, we can measure that directly. If $\\hat\\theta$ represents the estimator and $\\theta$ the parameter being estimated, then the **mean-squared error** (or MSE, for short) is defined as:\n",
        "\n",
        "$$ \\text{MSE}[\\hat\\theta] = E[ (\\hat\\theta - \\theta)^2 ]. $$\n",
        "\n",
        "It measures, on average, how far the estimator $\\hat\\theta$ is from the true value of $\\theta$.\n",
        "\n",
        "The MSE is not the same as the variance because $E[\\hat\\theta]$ may not be equal to $\\theta$ (that is, $\\hat\\theta$ may not be unbiased)."
      ]
    },
    {
      "cell_type": "markdown",
      "metadata": {
        "id": "icy57jz4RfaR",
        "colab_type": "text"
      },
      "source": [
        "**Question 1.** Derive a relation between the MSE and the bias and variance. (You may want to review the definitions of bias and variance.)"
      ]
    },
    {
      "cell_type": "markdown",
      "metadata": {
        "id": "-iEMHp8LX4ji",
        "colab_type": "text"
      },
      "source": [
        "\\begin{align}\n",
        "\\text{MSE}[\\hat\\theta] = E[(\\hat\\theta - \\theta)^2] &= E\\Big[\\big((\\hat\\theta - E[\\hat\\theta]) + (E[\\hat\\theta] - \\theta)\\big)^2 \\Big] & \\text{(add and subtract $E[\\hat\\theta]$)} \\\\\n",
        "&= ... & \\text{(expand the square)} \\\\\n",
        "&= ... & \\text{(middle term is zero)} \\\\\n",
        "&= ... & \\text{(definition of variance and bias)}\n",
        "\\end{align}"
      ]
    },
    {
      "cell_type": "markdown",
      "metadata": {
        "id": "PJ5wg-MNTwKT",
        "colab_type": "text"
      },
      "source": [
        "You can check your answer by simulating the bias, variance, and MSE, and seeing if the relation you derived holds."
      ]
    },
    {
      "cell_type": "code",
      "metadata": {
        "id": "GbpP83piTwBl",
        "colab_type": "code",
        "colab": {}
      },
      "source": [
        "n = 50\n",
        "p1 = 0.1\n",
        "\n",
        "X = RV(Binomial(n, p1))\n",
        "\n",
        "p1_tilde = (X + 2) / (n + 4)\n",
        "\n",
        "ps = p1_tilde.sim(10000)\n",
        "(ps.mean() - p1,      # bias\n",
        " ps.var(),            # variance\n",
        " mean((ps - p1) ** 2) # MSE\n",
        ")"
      ],
      "execution_count": null,
      "outputs": []
    },
    {
      "cell_type": "markdown",
      "metadata": {
        "id": "U-Na4bniSbgm",
        "colab_type": "text"
      },
      "source": [
        "**Question 1b.** Complete the blanks below:\n",
        "\n",
        "If an estimator $\\hat\\theta$ is unbiased, then the MSE is just the -----. The estimator with the smallest MSE is just the estimator with the smallest -----."
      ]
    },
    {
      "cell_type": "markdown",
      "metadata": {
        "id": "5DhVLX2VSvQ7",
        "colab_type": "text"
      },
      "source": [
        "**Question 2.** In the setting of Example 1, calculate the bias, variance, and MSE of $\\hat p_1$ and $\\tilde p_1$ for estimating $p_1$.\n",
        "\n",
        "Graph the bias, variance, and MSE as functions of $p_1$. Is there a clear winner between $\\hat p_1$ and $\\tilde p_1$?"
      ]
    },
    {
      "cell_type": "markdown",
      "metadata": {
        "id": "YPQjfjmOVeWB",
        "colab_type": "text"
      },
      "source": [
        "_YOUR MATH HERE_"
      ]
    },
    {
      "cell_type": "code",
      "metadata": {
        "id": "iPX6zhF1SbPZ",
        "colab_type": "code",
        "colab": {}
      },
      "source": [
        "# Some code to graph functions is provided below.\n",
        "\n",
        "# Define a grid of p1 values\n",
        "p1s = np.arange(0, 1, step=0.01)\n",
        "\n",
        "# You can graph functions of p1 as follows.\n",
        "plt.plot(p1s, p1s, '-')\n",
        "plt.plot(p1s, p1s + p1s ** 2, '-')\n",
        "plt.legend([r\"$\\hat p_1$\", r\"$\\tilde p_1$\"])"
      ],
      "execution_count": null,
      "outputs": []
    },
    {
      "cell_type": "markdown",
      "metadata": {
        "id": "JkTUij6uXjnC",
        "colab_type": "text"
      },
      "source": [
        "_YOUR EXPLANATION HERE_"
      ]
    },
    {
      "cell_type": "markdown",
      "metadata": {
        "id": "4DuwFjhLcRu2",
        "colab_type": "text"
      },
      "source": [
        "# The MSE of the Variance Estimator"
      ]
    },
    {
      "cell_type": "markdown",
      "metadata": {
        "id": "-Vu5YnajX0xG",
        "colab_type": "text"
      },
      "source": [
        "In the notebook \"Estimating the Variance\", you showed that if $X_1, \\ldots, X_n$ are i.i.d. from some distribution, then the sample variance \n",
        "$$ S^2 = \\frac{1}{n-1} \\sum_{i=1}^n (X_i - \\bar X)^2 $$\n",
        "is unbiased for estimating $\\sigma^2 = \\text{Var}[X_i]$. However, the estimator \n",
        "$$ S_0^2 = \\frac{1}{n} \\sum_{i=1}^n (X_i - \\bar X)^2 $$\n",
        "is biased for estimating $\\sigma^2$. Let's see which of $S^2$ and $S_0^2$ has the smaller MSE."
      ]
    },
    {
      "cell_type": "markdown",
      "metadata": {
        "id": "41UGuMKJcbj8",
        "colab_type": "text"
      },
      "source": [
        "**Question 3.** Let's revisit the setting of Example 2. We have 10 measurements of the number of radioactive particles that hit a Geiger counter over 1-second intervals, and the goal is to estimate the rate $\\lambda$ of the Poisson process. That is, we observe $X_1, X_2, \\ldots, X_{10}$, i.i.d. from a $\\text{Poisson}(\\lambda)$ distribution.\n",
        "\n",
        "In the notebook \"Comparing Unbiased Estimators\", you derived $\\text{Var}[S^2]$ as a quadratic function of $\\lambda$.\n",
        "\n",
        "1. Use previous results to calculate $\\text{MSE}[S^2]$.\n",
        "2. Calculate the bias and variance of $S_0^2$. Use these to calculate $\\text{MSE}[S_0^2]$.\n",
        "\n",
        "    (Hint: The bias and variance are easy to calculate, if you just observe that $S_0^2 = \\frac{n-1}{n} S^2$. Now, just use properties of expected value and variance to calculate $E[S_0^2]$ and $\\text{Var}[S_0^2]$, since you already know $E[S^2]$ and $\\text{Var}[S^2]$.)\n",
        "\n",
        "3. Graph the MSE of $S^2$ and $S_0^2$ as functions of $\\lambda$. Is there a clear winner? (The answer may surprise you!)"
      ]
    },
    {
      "cell_type": "markdown",
      "metadata": {
        "id": "HASegrHpZ786",
        "colab_type": "text"
      },
      "source": [
        "_YOUR MATH HERE_"
      ]
    },
    {
      "cell_type": "code",
      "metadata": {
        "id": "3kfUb0h4YzDs",
        "colab_type": "code",
        "colab": {}
      },
      "source": [
        "# YOUR CODE HERE (for making the graphs)"
      ],
      "execution_count": null,
      "outputs": []
    },
    {
      "cell_type": "markdown",
      "metadata": {
        "id": "TH9prbs9dtOJ",
        "colab_type": "text"
      },
      "source": [
        "_YOUR EXPLANATION HERE_"
      ]
    },
    {
      "cell_type": "markdown",
      "metadata": {
        "id": "GASbkXGzvB9n",
        "colab_type": "text"
      },
      "source": [
        "# Submission Instructions\n",
        "\n",
        "This notebook does not need to be turned in, since you'll be using these answers on your final project!"
      ]
    }
  ]
}
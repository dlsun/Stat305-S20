{
  "nbformat": 4,
  "nbformat_minor": 0,
  "metadata": {
    "kernelspec": {
      "display_name": "Python 3",
      "language": "python",
      "name": "python3"
    },
    "language_info": {
      "codemirror_mode": {
        "name": "ipython",
        "version": 3
      },
      "file_extension": ".py",
      "mimetype": "text/x-python",
      "name": "python",
      "nbconvert_exporter": "python",
      "pygments_lexer": "ipython3",
      "version": "3.6.8"
    },
    "colab": {
      "name": "STAT 305 Notebook 3. Estimating the Variance",
      "provenance": [],
      "collapsed_sections": [],
      "include_colab_link": true
    }
  },
  "cells": [
    {
      "cell_type": "markdown",
      "metadata": {
        "id": "view-in-github",
        "colab_type": "text"
      },
      "source": [
        "<a href=\"https://colab.research.google.com/github/dlsun/Stat305-S20/blob/master/colabs/notebooks/STAT_305_Notebook_3_Estimating_the_Variance.ipynb\" target=\"_parent\"><img src=\"https://colab.research.google.com/assets/colab-badge.svg\" alt=\"Open In Colab\"/></a>"
      ]
    },
    {
      "cell_type": "markdown",
      "metadata": {
        "id": "lOLjE3UjnssK",
        "colab_type": "text"
      },
      "source": [
        "I encourage you to work through this notebook with a partner so that you can discuss your answers. You should meet over an application such as Discord or Zoom. One person can share their screen with this notebook open."
      ]
    },
    {
      "cell_type": "code",
      "metadata": {
        "id": "qbP3w12k4Rpi",
        "colab_type": "code",
        "colab": {}
      },
      "source": [
        "# This is a code cell.\n",
        "# To run the code in this cell, click on it and press the \"Play\" button.\n",
        "!pip install -q symbulate\n",
        "from symbulate import *\n",
        "import matplotlib.pyplot as plt"
      ],
      "execution_count": null,
      "outputs": []
    },
    {
      "cell_type": "markdown",
      "metadata": {
        "id": "WwO5QkARgiII",
        "colab_type": "text"
      },
      "source": [
        "# An Interlude\n",
        "\n",
        "Before we get to the main meat of today's lesson, let's learn a fact that is interesting in its own right and useful for today's lesson.\n",
        "\n",
        "Given a series of numbers, $x_1, x_2, \\ldots, x_n$, what value $m$ minimizes the _sum of squared distances to the numbers_? That is, we want the value of $m$ that minimizes \n",
        "$$  \\sum_{i=1}^n (x_i - m)^2. $$"
      ]
    },
    {
      "cell_type": "markdown",
      "metadata": {
        "id": "ir5_UIhbhY1J",
        "colab_type": "text"
      },
      "source": [
        "**Question 1.** To find the value of $m$ that minimizes $\\sum_{i=1}^n (x_i - m)^2$, we will first rewrite this expression. (Fill in the intermediate steps in the calculation below. You may want paper and pencil handy for this one.)\n",
        "\n",
        "\\begin{align}\n",
        "\\sum_{i=1}^n (x_i - m)^2 &= \\sum_{i=1}^n ((x_i - \\bar x) - (m - \\bar x))^2 & \\text{(add and subtract $\\bar x$)} \\\\\n",
        "&= ... \\\\\n",
        "&= ... \\\\\n",
        "&= \\sum_{i=1}^n (x_i - \\bar x)^2 + n(m - \\bar x)^2\n",
        "\\end{align}\n",
        "\n",
        "From the final form of the expression, it is clear that the $m$ that minimizes the expression is $????$ because the first term does not depend on $m$ and the second term cannot be negative and can be made equal to zero by setting $m = ????$. (Replace $????$ with the appropriate expression.)"
      ]
    },
    {
      "cell_type": "markdown",
      "metadata": {
        "id": "LuVcfs3fvaqF",
        "colab_type": "text"
      },
      "source": [
        "# Estimating the Variance\n",
        "\n",
        "In this lesson, we discuss how to estimate the variance parameter $\\sigma^2 \\overset{\\text{def}}{=} \\text{Var}[X]$ from i.i.d. data. This is useful, for example, if we want to estimate the precision of our measuring device in the measurement error example (Example 3 from the previous notebook). "
      ]
    },
    {
      "cell_type": "markdown",
      "metadata": {
        "id": "Azy4czaWZAUF",
        "colab_type": "text"
      },
      "source": [
        "For concreteness, suppose we observe $X_1, X_2, \\ldots, X_n$ from a $\\text{Normal}(\\mu, \\sigma)$ distribution. We will consider estimating $\\sigma^2$ in two cases:\n",
        "\n",
        "1. $\\mu$ is known.\n",
        "2. $\\mu$ is not known."
      ]
    },
    {
      "cell_type": "markdown",
      "metadata": {
        "id": "u92zhQgaZSOS",
        "colab_type": "text"
      },
      "source": [
        "## Case 1. $\\mu$ known\n",
        "\n",
        "When $\\mu \\overset{\\text{def}}{=} E[X]$ is known, we might as well use it. Since variance is defined as \n",
        "$$ \\text{Var}[X] = E[(X - E[X])^2] = E[(X - \\mu)^2], $$\n",
        "it seems reasonable to estimate it by \n",
        "$$ \\hat\\sigma^2 = \\frac{1}{n} \\sum_{i=1}^n (X_i - \\mu)^2. $$"
      ]
    },
    {
      "cell_type": "markdown",
      "metadata": {
        "id": "ziZrCrYyaUht",
        "colab_type": "text"
      },
      "source": [
        "Let's do a simulation for $n=3$. We arbitrarily set $\\mu=5.2$ and $\\sigma=1.2$, and see if the stimator above is able to recover $\\sigma^2 = 1.44$."
      ]
    },
    {
      "cell_type": "code",
      "metadata": {
        "id": "YDY3TTXtaUQ9",
        "colab_type": "code",
        "colab": {}
      },
      "source": [
        "n = 3\n",
        "mu = 5.2\n",
        "sigma = 1.2\n",
        "\n",
        "X = RV(Normal(mu, sigma) ** n)\n",
        "\n",
        "def estimator(data):\n",
        "  return mean((data - mu) ** 2)\n",
        "\n",
        "estimates = X.apply(estimator).sim(100000)\n",
        "\n",
        "estimates.plot()\n",
        "estimates.mean()"
      ],
      "execution_count": null,
      "outputs": []
    },
    {
      "cell_type": "markdown",
      "metadata": {
        "id": "E3WfiVJLbaAH",
        "colab_type": "text"
      },
      "source": [
        "**Question 2.** Based on the simulations above, does the estimator $\\hat\\sigma^2$ seem to be unbiased? Can you _prove_ it? (Hint: Use linearity of expectation and the fact that $E[(X_i - \\mu)^2] = \\text{Var}[X_i] = \\sigma^2$ by the definition of variance.)"
      ]
    },
    {
      "cell_type": "markdown",
      "metadata": {
        "id": "LcMKoox4ZaLR",
        "colab_type": "text"
      },
      "source": [
        "_YOUR EXPLANATION HERE_"
      ]
    },
    {
      "cell_type": "markdown",
      "metadata": {
        "id": "_jPAfeX_cNax",
        "colab_type": "text"
      },
      "source": [
        "## Case 2. $\\mu$ unknown\n",
        "\n",
        "In most situations, we don't know $\\mu$. For example, in the measurement error example, $\\mu$ would be the true weight of NB 10. But we don't know the true weight of NB 10---that's why we're measuring it in the first place!"
      ]
    },
    {
      "cell_type": "markdown",
      "metadata": {
        "id": "OGHxOGYadMRb",
        "colab_type": "text"
      },
      "source": [
        "If $\\mu$ is not known, it makes sense to try to estimate it. In the last notebook, we saw that the sample mean $\\bar X$ is an unbiased estimate of $\\mu$. So, as a first guess, let's try the estimator:\n",
        "\n",
        "$$ S_0^2 = \\frac{1}{n} \\sum_{i=1}^n (X_i - \\bar X)^2 $$"
      ]
    },
    {
      "cell_type": "markdown",
      "metadata": {
        "id": "wOkER4KqjnJ7",
        "colab_type": "text"
      },
      "source": [
        "**Question 3.** Modify the simulation above to estimate the distribution of $S_0^2$. Does it seem to be unbiased for estimating $\\sigma^2$?"
      ]
    },
    {
      "cell_type": "code",
      "metadata": {
        "id": "aeIEKk1PcNRH",
        "colab_type": "code",
        "colab": {}
      },
      "source": [
        "# YOUR CODE HERE"
      ],
      "execution_count": null,
      "outputs": []
    },
    {
      "cell_type": "markdown",
      "metadata": {
        "id": "Ev96W953j6vs",
        "colab_type": "text"
      },
      "source": [
        "_YOUR EXPLANATION HERE_"
      ]
    },
    {
      "cell_type": "markdown",
      "metadata": {
        "id": "990Z0TYtj6l8",
        "colab_type": "text"
      },
      "source": [
        "Question 1 makes it clear why $S_0^2$ will consistently underestimate the variance. In Question 1, we saw that $\\bar X$ is the value of $m$ that makes $\\sum_{i=1}^n (X_i - m)^2$ smallest. \n",
        "\n",
        "In particular, this means that $S_0^2 = \\frac{1}{n} \\sum_{i=1}^n (X_i - \\bar X)^2$ will always be smaller than $\\hat\\sigma^2 = \\frac{1}{n} \\sum_{i=1}^n (X_i - \\mu)^2$. Since $\\hat\\sigma^2$ is unbiased, $S_0^2$ cannot also be unbiased; it will be too small on average."
      ]
    },
    {
      "cell_type": "markdown",
      "metadata": {
        "id": "-XY9bs4pk06K",
        "colab_type": "text"
      },
      "source": [
        "Let's try again. We will show that \n",
        "$$ E\\big[\\sum_{i=1}^n (X_i - \\bar X)^2 \\big] = c \\sigma^2 $$\n",
        "for some constant $c$. Then, $c$ will be the number we have to divide by, to obtain an unbiased estimator of $\\sigma^2$."
      ]
    },
    {
      "cell_type": "markdown",
      "metadata": {
        "id": "USvmFjskl61h",
        "colab_type": "text"
      },
      "source": [
        "**Question 4.** Complete the calculation above. What is $c$? (You may want paper and pencil handy for this one.)\n",
        "\n",
        "\\begin{align}\n",
        "E\\big[ \\sum_{i=1}^n (X_i - \\bar X)^2 \\big] &= ... \\\\\n",
        "&= ... \\\\\n",
        "&= ...\n",
        "\\end{align}\n",
        "\n",
        "Hints:\n",
        "\n",
        "- Use the expression you derived in Question 1 to rewrite $\\sum_{i=1}^n (X_i - \\bar X)^2$ in terms of $\\sum_{i=1}^n (X_i - \\mu)^2$ and $n(\\bar X - \\mu)^2$.\n",
        "- Note that $E[(\\bar X - \\mu)^2]$ is just the definition of $\\text{Var}[\\bar X]$, which we have calculated many times before."
      ]
    },
    {
      "cell_type": "markdown",
      "metadata": {
        "id": "1tMXUEsaotdL",
        "colab_type": "text"
      },
      "source": [
        "Your calculation in Question 4 shows that an unbiased estimator of the variance $\\sigma^2$ is the **sample variance**\n",
        "\n",
        "$$ S^2 = \\frac{1}{n-1} \\sum_{i=1}^n (X_i - \\bar X)^2. $$\n",
        "\n",
        "(Perhaps you have always wondered why we divide by $n-1$ in the definition of standard deviation. Now you know! It is to make $S^2$ unbiased for estimating $\\sigma^2$.)"
      ]
    },
    {
      "cell_type": "markdown",
      "metadata": {
        "id": "UbsQNPn5nrSK",
        "colab_type": "text"
      },
      "source": [
        "# Application"
      ]
    },
    {
      "cell_type": "markdown",
      "metadata": {
        "id": "Td3Eac18YES0",
        "colab_type": "text"
      },
      "source": [
        "The 100 measurements of the weight of NB10 produced the following data (in micrograms below 10 grams)."
      ]
    },
    {
      "cell_type": "code",
      "metadata": {
        "id": "acBBIu9UcTeu",
        "colab_type": "code",
        "colab": {}
      },
      "source": [
        "data = [409,400,406,399,402,406,401,403,401,403,398,403,407,402,401,399,400,401,405,402,408,399,399,402,399,397,407,401,399,401,403,400,410,401,407,423,406,406,402,405,405,409,399,402,407,406,413,409,404,402,404,406,407,405,411,410,410,410,401,402,404,405,392,407,406,404,403,408,404,407,412,406,409,400,408,404,401,404,408,406,408,406,401,412,393,437,418,415,404,401,401,407,412,375,409,406,398,406,403,404]"
      ],
      "execution_count": null,
      "outputs": []
    },
    {
      "cell_type": "markdown",
      "metadata": {
        "id": "3R13c2TXdQ-5",
        "colab_type": "text"
      },
      "source": [
        "**Question 5.** Calculate an unbiased estimate of the precision $\\sigma^2$ of the measuring device.\n",
        "\n",
        "Note: The term \"unbiased estimate\" is a misnomer. Unbiasedness is a property of the procedure (i.e., the estimator), not of an individual estimate. However, statisticians use the term \"unbiased estimate\" to refer to an estimate that comes from an unbiased estimator."
      ]
    },
    {
      "cell_type": "code",
      "metadata": {
        "id": "YLGmLwyXoiQl",
        "colab_type": "code",
        "colab": {}
      },
      "source": [
        "# YOUR CODE HERE"
      ],
      "execution_count": null,
      "outputs": []
    },
    {
      "cell_type": "markdown",
      "metadata": {
        "id": "4uRDFen9oFQR",
        "colab_type": "text"
      },
      "source": [
        "_YOUR EXPLANATION HERE_"
      ]
    },
    {
      "cell_type": "markdown",
      "metadata": {
        "id": "DWRXYRoQaWRb",
        "colab_type": "text"
      },
      "source": [
        "# General Theory\n",
        "\n",
        "If $X_1, X_2, \\ldots, X_n$ are i.i.d. from _any_ distribution with $\\text{Var}[X_1] = \\sigma^2$, then \n",
        "$$ S^2 = \\frac{1}{n-1} \\sum_{i=1}^n (X_i - \\bar X)^2 $$\n",
        "is unbiased for estimating $\\sigma^2$."
      ]
    },
    {
      "cell_type": "markdown",
      "metadata": {
        "id": "GASbkXGzvB9n",
        "colab_type": "text"
      },
      "source": [
        "# Submission Instructions\n",
        "\n",
        "1. If you worked with a different partner on this notebook than on the previous notebooks, [go here](https://canvas.calpoly.edu/courses/25458/groups) and add both you and your partner (if applicable) to one of the STAT 305 Groups.\n",
        "2. Export this Colab notebook to PDF. Easiest way is File > Print > Save as PDF.\n",
        "3. Double check that the PDF rendered properly (i.e., nothing is cut off).\n",
        "4. Upload the PDF [to Canvas](https://canvas.calpoly.edu/courses/25458/assignments/111815). Only one of you needs to upload the PDF."
      ]
    }
  ]
}
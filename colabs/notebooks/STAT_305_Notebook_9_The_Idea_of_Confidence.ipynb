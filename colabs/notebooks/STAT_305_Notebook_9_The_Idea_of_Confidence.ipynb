{
  "nbformat": 4,
  "nbformat_minor": 0,
  "metadata": {
    "colab": {
      "name": "STAT 305 Notebook 9. The Idea of Confidence",
      "provenance": [],
      "collapsed_sections": [],
      "include_colab_link": true
    },
    "kernelspec": {
      "name": "python3",
      "display_name": "Python 3"
    }
  },
  "cells": [
    {
      "cell_type": "markdown",
      "metadata": {
        "id": "view-in-github",
        "colab_type": "text"
      },
      "source": [
        "<a href=\"https://colab.research.google.com/github/dlsun/Stat305-S20/blob/master/colabs/notebooks/STAT_305_Notebook_9_The_Idea_of_Confidence.ipynb\" target=\"_parent\"><img src=\"https://colab.research.google.com/assets/colab-badge.svg\" alt=\"Open In Colab\"/></a>"
      ]
    },
    {
      "cell_type": "markdown",
      "metadata": {
        "id": "dqm5jy3-K7A_",
        "colab_type": "text"
      },
      "source": [
        "I encourage you to work through this notebook with a partner so that you can discuss your answers. You should meet over an application such as Discord or Zoom. One person can share their screen with this notebook open."
      ]
    },
    {
      "cell_type": "code",
      "metadata": {
        "id": "c7FXZ6syIAUD",
        "colab_type": "code",
        "cellView": "both",
        "colab": {}
      },
      "source": [
        "!pip install -q symbulate\n",
        "from symbulate import *\n",
        "\n",
        "import matplotlib.pyplot as plt"
      ],
      "execution_count": null,
      "outputs": []
    },
    {
      "cell_type": "markdown",
      "metadata": {
        "id": "ApSnu6OPAmub",
        "colab_type": "text"
      },
      "source": [
        "# The Idea of Confidence"
      ]
    },
    {
      "cell_type": "markdown",
      "metadata": {
        "id": "O8KGwf0dAl3N",
        "colab_type": "text"
      },
      "source": [
        "Suppose we measure tire pressure using a pressure gauge. The gauge produces measurements that follow a $\\text{Normal}(\\mu, \\sigma=1.5)$ distribution, where $\\mu$ is the true pressure of the tire.\n",
        "\n",
        "Suppose we make one measurement with the gauge and it comes out to $X = 36.7$ psi. Clearly, $36.7$ is our best estimate of the true tire pressure $\\mu$. But there is some uncertainty associated with this estimate. To communicate our uncertainty, we typically report a 95% confidence interval, which can be written as \n",
        "\n",
        "$$ X \\pm 2 \\sigma = 36.7 \\pm \\underbrace{2 \\cdot 1.5}_{3.0} $$\n",
        "\n",
        "or as \n",
        "\n",
        "$$ (33.7, 39.7). $$"
      ]
    },
    {
      "cell_type": "markdown",
      "metadata": {
        "id": "pg0wtkWWWSdU",
        "colab_type": "text"
      },
      "source": [
        "The video below explains how to interpret this interval."
      ]
    },
    {
      "cell_type": "code",
      "metadata": {
        "id": "GmMNJ-c9ZdRn",
        "colab_type": "code",
        "colab": {
          "base_uri": "https://localhost:8080/",
          "height": 471
        },
        "outputId": "e099331a-527e-4405-88ec-34101e76d75d"
      },
      "source": [
        "from IPython.display import YouTubeVideo\n",
        "YouTubeVideo(\"9bj5zdss6j0\", width=800, height=450)"
      ],
      "execution_count": 1,
      "outputs": [
        {
          "output_type": "execute_result",
          "data": {
            "text/html": [
              "\n",
              "        <iframe\n",
              "            width=\"800\"\n",
              "            height=\"450\"\n",
              "            src=\"https://www.youtube.com/embed/9bj5zdss6j0\"\n",
              "            frameborder=\"0\"\n",
              "            allowfullscreen\n",
              "        ></iframe>\n",
              "        "
            ],
            "text/plain": [
              "<IPython.lib.display.YouTubeVideo at 0x7f5a49053898>"
            ]
          },
          "metadata": {
            "tags": []
          },
          "execution_count": 1
        }
      ]
    },
    {
      "cell_type": "markdown",
      "metadata": {
        "id": "kLY1TtkDWuMJ",
        "colab_type": "text"
      },
      "source": [
        "The factor of $2$ in $X \\pm 2 \\sigma$ is called the **critical value** and is related to the confidence level 95%. This number will change depending on the desired confidence level.\n",
        "\n",
        "The critical value $z$ is tied to the normal distribution. If $Z$ is a standard normal random variable, then $z$ is chosen so that \n",
        "$$ P(-z < Z < z) = \\text{desired confidence level}. $$\n",
        "For example, \n",
        "$$ P(-2 < Z < 2) \\approx .95, $$\n",
        "which is why we use the critical value $z=2$ for a 95% confidence interval. (More precisely, the critical value should be $z=1.96$, but $z=2$ is close enough and easier to remember.)"
      ]
    },
    {
      "cell_type": "markdown",
      "metadata": {
        "id": "jOOlDTVz_g8N",
        "colab_type": "text"
      },
      "source": [
        "For a confidence level of 99%, the critical value is $z = 2.58$, since \n",
        "$$ P(-2.58 < Z < 2.58) \\approx .99. $$\n",
        "Therefore, a 99% confidence interval based on the measurement above is \n",
        "$$ 36.7 \\pm 2.58 \\cdot 1.5 = (32.83, 40.57). $$"
      ]
    },
    {
      "cell_type": "markdown",
      "metadata": {
        "id": "aRLQqt1IZPyX",
        "colab_type": "text"
      },
      "source": [
        "**Question 1.** Report an 80% confidence interval for the true tire pressure $\\mu$ based on the measurement $X = 36.7$. "
      ]
    },
    {
      "cell_type": "markdown",
      "metadata": {
        "id": "ONYuSmwWaYRm",
        "colab_type": "text"
      },
      "source": [
        "_YOUR ANSWER HERE_"
      ]
    },
    {
      "cell_type": "markdown",
      "metadata": {
        "id": "LDhvbgiIacUr",
        "colab_type": "text"
      },
      "source": [
        "**Question 2.** How will the confidence interval change (narrower, wider, stays the same) if...\n",
        "\n",
        "- the desired confidence level is increased?\n",
        "- we use a more precise gauge (i.e., one with a smaller value of $\\sigma$)?"
      ]
    },
    {
      "cell_type": "markdown",
      "metadata": {
        "id": "24-vKPfAav0m",
        "colab_type": "text"
      },
      "source": [
        "_YOUR ANSWER HERE_"
      ]
    },
    {
      "cell_type": "markdown",
      "metadata": {
        "id": "jB81S4sUbhX3",
        "colab_type": "text"
      },
      "source": [
        "Now, suppose we make $n=5$ independent measurements with the same gauge, and obtain the following readings:\n",
        "\n",
        "$$ 37.6, 35.8, 38.3, 36.0, 37.1 $$\n",
        "\n",
        "The natural estimate of $\\mu$ based on these $n=5$ measurements is \n",
        "\n",
        "$$ \\bar X = \\frac{37.6 + 35.8 + 38.3 + 36.0 + 37.1}{5} = 36.96$$\n",
        "\n",
        "How do we report a confidence interval?"
      ]
    },
    {
      "cell_type": "markdown",
      "metadata": {
        "id": "q9ZntFfQc30x",
        "colab_type": "text"
      },
      "source": [
        "**Question 3.** What is the distribution of $\\bar X$?"
      ]
    },
    {
      "cell_type": "markdown",
      "metadata": {
        "id": "Vb28xWxgc6s9",
        "colab_type": "text"
      },
      "source": [
        "_YOUR ANSWER HERE_\n",
        "\n",
        "$\\bar X$ follows a $\\text{Normal}(..., ...)$ distribution. (Fill in the blanks. Your answers should depend on $\\mu$ and nothing else. Remember that the standard deviation of measurements made with this gauge is known: 1.5 psi. We have calculated $E[\\bar X]$ and $\\text{Var}[\\bar X]$ many times before. Review your notes if you do not remember them.)"
      ]
    },
    {
      "cell_type": "markdown",
      "metadata": {
        "id": "oNaDZ2XydMBN",
        "colab_type": "text"
      },
      "source": [
        "**Question 4.** Use your answer to Question 3 to construct a 90% confidence interval for $\\mu$ based on the 5 measurements above."
      ]
    },
    {
      "cell_type": "markdown",
      "metadata": {
        "id": "CTiC81sJc3rp",
        "colab_type": "text"
      },
      "source": [
        "_YOUR ANSWER HERE_"
      ]
    },
    {
      "cell_type": "markdown",
      "metadata": {
        "id": "4sv9A8eEejbe",
        "colab_type": "text"
      },
      "source": [
        "**Question 5.** Can you come up with a general formula? Suppose we make $n$ independent measurements, $X_1, ..., X_n$, with an instrument known to produce measurements that follow a $\\text{Normal}(\\mu, \\sigma)$ distribution, where the precision of the instrument $\\sigma$ is known.\n",
        "\n",
        "Then, a confidence interval for $\\mu$ is of the form \n",
        "$$ \\bar X \\pm z \\cdot ..., $$\n",
        "where $z$ is the critical value for the desired confidence level."
      ]
    },
    {
      "cell_type": "markdown",
      "metadata": {
        "id": "qV6hENDO5amD",
        "colab_type": "text"
      },
      "source": [
        "# Submission Instructions\n",
        "\n",
        "You do not need to submit this notebook, but you should [submit your answers to this Canvas quiz](https://canvas.calpoly.edu/courses/25458/assignments/114240) to check your answers."
      ]
    }
  ]
}
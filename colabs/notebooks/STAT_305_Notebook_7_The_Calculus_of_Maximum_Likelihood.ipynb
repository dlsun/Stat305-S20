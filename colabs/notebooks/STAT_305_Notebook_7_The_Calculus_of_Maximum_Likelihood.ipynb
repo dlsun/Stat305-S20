{
  "nbformat": 4,
  "nbformat_minor": 0,
  "metadata": {
    "colab": {
      "name": "STAT 305 Notebook 7. The Calculus of Maximum Likelihood",
      "provenance": [],
      "collapsed_sections": [],
      "include_colab_link": true
    },
    "kernelspec": {
      "name": "python3",
      "display_name": "Python 3"
    }
  },
  "cells": [
    {
      "cell_type": "markdown",
      "metadata": {
        "id": "view-in-github",
        "colab_type": "text"
      },
      "source": [
        "<a href=\"https://colab.research.google.com/github/dlsun/Stat305-S20/blob/master/colabs/notebooks/STAT_305_Notebook_7_The_Calculus_of_Maximum_Likelihood.ipynb\" target=\"_parent\"><img src=\"https://colab.research.google.com/assets/colab-badge.svg\" alt=\"Open In Colab\"/></a>"
      ]
    },
    {
      "cell_type": "markdown",
      "metadata": {
        "id": "dqm5jy3-K7A_",
        "colab_type": "text"
      },
      "source": [
        "I encourage you to work through this notebook with a partner so that you can discuss your answers. You should meet over an application such as Discord or Zoom. One person can share their screen with this notebook open."
      ]
    },
    {
      "cell_type": "code",
      "metadata": {
        "id": "c7FXZ6syIAUD",
        "colab_type": "code",
        "cellView": "both",
        "colab": {}
      },
      "source": [
        "!pip install -q symbulate\n",
        "from symbulate import *\n",
        "\n",
        "import matplotlib.pyplot as plt"
      ],
      "execution_count": null,
      "outputs": []
    },
    {
      "cell_type": "markdown",
      "metadata": {
        "id": "ApSnu6OPAmub",
        "colab_type": "text"
      },
      "source": [
        "# The Calculus of Maximum Likelihood"
      ]
    },
    {
      "cell_type": "markdown",
      "metadata": {
        "id": "wliN8wieKHME",
        "colab_type": "text"
      },
      "source": [
        "We have a skew die, and we want to know the probability $p$ that an ace comes up. We roll the die 45 times, and aces come up 10 times. How do we use this data to estimate $p$?\n",
        "\n",
        "In the previous lesson, we graphed the likelihood function (for 10 aces) as a function of $p$. We found the maximum likelihood estimate by looking at the graph to get a ballpark estimate of $p$ and evaluating the likelihood at every value of $p$ at increments of $.001$."
      ]
    },
    {
      "cell_type": "code",
      "metadata": {
        "id": "gLN49nsr87Ty",
        "colab_type": "code",
        "colab": {
          "base_uri": "https://localhost:8080/",
          "height": 282
        },
        "outputId": "67b756b3-903a-49ae-d5db-66e44e44501e"
      },
      "source": [
        "ps = np.arange(0.01, 1, step=.01)\n",
        "\n",
        "# You can define the likelihood manually.\n",
        "def choose(n, k):\n",
        "  return factorial(n) / (factorial(k) * factorial(n - k))\n",
        "\n",
        "def likelihood(p):\n",
        "  return (choose(45, 10) * \n",
        "          p ** 10 * \n",
        "          (1 - p) ** (45 - 10))\n",
        "\n",
        "plt.plot(ps, [likelihood(p) for p in ps], \"-\")"
      ],
      "execution_count": null,
      "outputs": [
        {
          "output_type": "execute_result",
          "data": {
            "text/plain": [
              "[<matplotlib.lines.Line2D at 0x7f934cb20320>]"
            ]
          },
          "metadata": {
            "tags": []
          },
          "execution_count": 26
        },
        {
          "output_type": "display_data",
          "data": {
            "image/png": "[encoded data removed]",
            "text/plain": [
              "<Figure size 432x288 with 1 Axes>"
            ]
          },
          "metadata": {
            "tags": [],
            "needs_background": "light"
          }
        }
      ]
    },
    {
      "cell_type": "markdown",
      "metadata": {
        "id": "gNZwT7HK_Ghz",
        "colab_type": "text"
      },
      "source": [
        "There are several problems with finding MLEs this way:\n",
        "\n",
        "- It requires a lot of manual effort.\n",
        "- At the end, we only know the MLE $\\hat p$ to 3 digits of precision."
      ]
    },
    {
      "cell_type": "markdown",
      "metadata": {
        "id": "L3TWjH9n_8B-",
        "colab_type": "text"
      },
      "source": [
        "Fortunately, we can find the MLE another way. The function we want to maximize is \n",
        "\n",
        "$$ L_{x=10}(p) = \\binom{45}{10} p^{10} (1-p)^{35}. $$\n",
        "\n",
        "In your calculus class, you learned a way to maximize functions: take the derivative, set it equal to 0, and solve for $p$."
      ]
    },
    {
      "cell_type": "markdown",
      "metadata": {
        "id": "fGn5xX2rAoU9",
        "colab_type": "text"
      },
      "source": [
        "**Question 1.** Take the derivative of $L_{x=10}(p)$ with respect to $p$, set it equal to 0, and solve for $p$ to obtain the MLE. Verify that it agrees with the answer we obtained in the previous lesson.\n",
        "\n",
        "(_Hint:_ Don't forget the product rule!)"
      ]
    },
    {
      "cell_type": "markdown",
      "metadata": {
        "id": "YAj3BhQcA1nG",
        "colab_type": "text"
      },
      "source": [
        "_YOUR ANSWER HERE_"
      ]
    },
    {
      "cell_type": "markdown",
      "metadata": {
        "id": "dcD6J5KZAoHV",
        "colab_type": "text"
      },
      "source": [
        "While that calculation probably wasn't too bad, we can make life easier by taking logarithms before taking derivatives. The graph below compares the likelihood with the log-likelihood. The two functions are very different, but they are maximized at the same value of $p$."
      ]
    },
    {
      "cell_type": "code",
      "metadata": {
        "id": "TzcJiIFL95QF",
        "colab_type": "code",
        "colab": {
          "base_uri": "https://localhost:8080/",
          "height": 717
        },
        "outputId": "19bc9c02-497e-4ced-83a5-02220d2ceab3"
      },
      "source": [
        "plt.figure(figsize=(8, 12))\n",
        "\n",
        "ps = np.arange(0.10, 0.35, step=0.001)\n",
        "plt.plot(ps, [likelihood(p) for p in ps], \"-\")\n",
        "plt.plot(ps, [log(likelihood(p)) for p in ps], \"-\")\n",
        "plt.legend([\"Likelihood\", \"Log Likelihood\"], fontsize=16)"
      ],
      "execution_count": null,
      "outputs": [
        {
          "output_type": "execute_result",
          "data": {
            "text/plain": [
              "<matplotlib.legend.Legend at 0x7f934ca86278>"
            ]
          },
          "metadata": {
            "tags": []
          },
          "execution_count": 27
        },
        {
          "output_type": "display_data",
          "data": {
            "image/png": "[encoded data removed]",
            "text/plain": [
              "<Figure size 576x864 with 1 Axes>"
            ]
          },
          "metadata": {
            "tags": [],
            "needs_background": "light"
          }
        }
      ]
    },
    {
      "cell_type": "markdown",
      "metadata": {
        "id": "wIgQCKTdBdZ0",
        "colab_type": "text"
      },
      "source": [
        "Why does taking logs make our life easier? Because logarithms turn products into sums.\n",
        "\n",
        "$$ \\log(ab) = \\log(a) + \\log(b) $$\n",
        "\n",
        "It is easier to take the derivative of a sum than of a product.\n",
        "\n",
        "Another useful property of logarithms is that exponents come down:\n",
        "\n",
        "$$ \\log(b^a) = a \\log(b)$$"
      ]
    },
    {
      "cell_type": "markdown",
      "metadata": {
        "id": "Ex23MznpBdKF",
        "colab_type": "text"
      },
      "source": [
        "Using these two properties, we can write and simplify the log-likelihood as\n",
        "\n",
        "\\begin{align*}\n",
        " \\ell(p) = \\log L_{x=10}(p) &= \\log \\left( \\binom{45}{10} p^{10} (1 - p)^{35} \\right) \\\\\n",
        " &= \\log \\binom{45}{10} + \\log p^{10} + \\log(1 - p)^{35} \\\\\n",
        " &= \\log \\binom{45}{10} + 10 \\log p + 35 \\log(1 - p). \\\\\n",
        "\\end{align*}"
      ]
    },
    {
      "cell_type": "markdown",
      "metadata": {
        "id": "fT9ffGEyCW-r",
        "colab_type": "text"
      },
      "source": [
        "**Question 2.** Take the derivative of $\\ell(p)$ with respect to $p$, set it equal to 0, and solve for $p$ to obtain the MLE. Verify that it agrees with the answer you obtained in Question 1.\n",
        "\n",
        "(_Hint:_ Note that $\\log$ here is the _natural_ logarithm, base $e$, sometimes written as $\\ln$. We use $\\log$ for the natural logarithm, rather than the base-10 logarithm, which is the standard convention in most sciences and engineering.)"
      ]
    },
    {
      "cell_type": "markdown",
      "metadata": {
        "id": "mtSe058_C_0L",
        "colab_type": "text"
      },
      "source": [
        "_YOUR ANSWER HERE_"
      ]
    },
    {
      "cell_type": "markdown",
      "metadata": {
        "id": "B0kvLpngDliN",
        "colab_type": "text"
      },
      "source": [
        "# The Maximum Likelihood Estimator\n",
        "\n",
        "What would the maximum likelihood estimate have been if we had observed 14 or 6 aces, instead of 10? We could go through the entire process again for each possible value of $X$."
      ]
    },
    {
      "cell_type": "markdown",
      "metadata": {
        "id": "DcnjfMB-EPmv",
        "colab_type": "text"
      },
      "source": [
        "Here's a better idea. What if we left $X$ in the likelihood? Then, when we solve for the maximum likelihood estimate, we will get the MLE as a function of $X$. That is, we will know what the estimate is, for any outcome we might observe."
      ]
    },
    {
      "cell_type": "markdown",
      "metadata": {
        "id": "ahuIgj8xFDJP",
        "colab_type": "text"
      },
      "source": [
        "The log-likelihood is:\n",
        "\n",
        "\\begin{align*}\n",
        " \\ell(p) = \\log L(p) &= \\log \\left( \\binom{45}{X} p^{X} (1 - p)^{45-X} \\right) \\\\\n",
        " &= \\log \\binom{45}{X} + \\log p^{X} + \\log(1 - p)^{45-X} \\\\\n",
        " &= \\log \\binom{45}{X} + X \\log p + (45 - X) \\log(1 - p). \\\\\n",
        "\\end{align*}"
      ]
    },
    {
      "cell_type": "markdown",
      "metadata": {
        "id": "PvvsrJkGFc6F",
        "colab_type": "text"
      },
      "source": [
        "**Question 3.** Calculate the maximum likelihood estimator $\\hat p$ as a function of the data $X$. \n",
        "\n",
        "(_Hint:_ Remember that you are maximizing with respect to $p$, so you should take the derivative with respect to $p$. As far as maximum likelihood is concerned, $X$ is just a constant.)"
      ]
    },
    {
      "cell_type": "markdown",
      "metadata": {
        "id": "ojHk9AjuF-Yp",
        "colab_type": "text"
      },
      "source": [
        "_YOUR ANSWER HERE_"
      ]
    },
    {
      "cell_type": "markdown",
      "metadata": {
        "id": "0fEDvWHzYYXT",
        "colab_type": "text"
      },
      "source": [
        "## General Theory\n",
        "\n",
        "To calculate the maximum likelihood estimator $\\hat\\theta$, \n",
        "\n",
        "1. Write the likelihood in terms of the parameter $\\theta$ and the data $X$.\n",
        "2. Take logarithms and simplify.\n",
        "3. Set the derivative of the log-likelihood (with respect to $\\theta$) equal to 0, and solve for $\\theta$.\n",
        "\n",
        "This recipe only works when the parameter $\\theta$ is continuous. It does not work for Example 5, where the parameter $N$ is an integer."
      ]
    },
    {
      "cell_type": "markdown",
      "metadata": {
        "id": "mJOHAC-qPDyW",
        "colab_type": "text"
      },
      "source": [
        "# Example 4 Revisited\n",
        "\n"
      ]
    },
    {
      "cell_type": "markdown",
      "metadata": {
        "id": "qgBpJ12VdF1H",
        "colab_type": "text"
      },
      "source": [
        "A team of 30 people consists of both agents and spies. Agents have a $2/3$ chance of succeeding on their mission; spies only have a $1/3$ chance of succeeding. The proportion of spies $s$ is unknown. Each of the 30 team members independently goes out on a mission, and 19 of the missions are successful. Based on this data, what is your estimate $\\hat s$ of the proportion of spies?"
      ]
    },
    {
      "cell_type": "markdown",
      "metadata": {
        "id": "ec9N3ygheEnO",
        "colab_type": "text"
      },
      "source": [
        "**Question 4.** In the previous lesson, you calculated the maximum likelihood estimate when there were 19 successful missions. Now, calculate the maximum likelihood estimator $\\hat s$ in terms of the number of successful missions $X$."
      ]
    },
    {
      "cell_type": "markdown",
      "metadata": {
        "id": "OH2gDh8ke2aq",
        "colab_type": "text"
      },
      "source": [
        "_YOUR ANSWER HERE_"
      ]
    },
    {
      "cell_type": "markdown",
      "metadata": {
        "id": "WJ0fYqyQTTDi",
        "colab_type": "text"
      },
      "source": [
        "# Example 2 Revisited\n",
        "\n"
      ]
    },
    {
      "cell_type": "markdown",
      "metadata": {
        "id": "wzXGJvYRHnE2",
        "colab_type": "text"
      },
      "source": [
        "Recall Example 2, where we wanted to estimate the rate parameter $\\lambda$ of a Poisson process by which radioactive particles reach a Geiger counter.\n",
        "\n",
        "We recorded the number of particles in 1-second intervals for 10 seconds:\n",
        "$$ 0, 3, 1, 0, 0, 1, 0, 2, 0, 4. $$"
      ]
    },
    {
      "cell_type": "markdown",
      "metadata": {
        "id": "NFk68CrsZwjr",
        "colab_type": "text"
      },
      "source": [
        "**Question 5.** Write down the likelihood for observing these 10 observations, as a function of $\\lambda$.\n",
        "\n",
        "The likelihood in this case can be calculated from the joint p.m.f. Remember that the 10 observations are independent."
      ]
    },
    {
      "cell_type": "markdown",
      "metadata": {
        "id": "cjihOcIg4qvb",
        "colab_type": "text"
      },
      "source": [
        "_YOUR ANSWER HERE_\n",
        "\n",
        "\\begin{align}\n",
        "L(\\lambda) &= f_{\\lambda}(0, 3, 1, 0, 0, 1, 0, 2, 0, 4) \\\\\n",
        "&= ...\n",
        "\\end{align}"
      ]
    },
    {
      "cell_type": "markdown",
      "metadata": {
        "id": "Z9qnCc0TJrx1",
        "colab_type": "text"
      },
      "source": [
        "**Question 6.** What do you notice about the values of the likelihood $L$? Graph the log-likelihood $\\ell$."
      ]
    },
    {
      "cell_type": "markdown",
      "metadata": {
        "id": "1Lt75Ls0KCod",
        "colab_type": "text"
      },
      "source": [
        "_YOUR ANSWER HERE_"
      ]
    },
    {
      "cell_type": "code",
      "metadata": {
        "id": "UsOUndw6JOBS",
        "colab_type": "code",
        "colab": {}
      },
      "source": [
        "# YOUR CODE HERE"
      ],
      "execution_count": null,
      "outputs": []
    },
    {
      "cell_type": "markdown",
      "metadata": {
        "id": "1Esl8C7c4qsT",
        "colab_type": "text"
      },
      "source": [
        "**Question 7.** Now, suppose we record the number of particles in 1-second intervals for $n$ seconds, and we observe $X_1, X_2, ..., X_n$. Generalize your calculation above to obtain the maximum likelihood estimator of $\\lambda$ in terms of $X_1, X_2, ..., X_n$.\n",
        "\n"
      ]
    },
    {
      "cell_type": "markdown",
      "metadata": {
        "id": "RU_qHPdic6DW",
        "colab_type": "text"
      },
      "source": [
        "_YOUR ANSWER HERE_"
      ]
    },
    {
      "cell_type": "markdown",
      "metadata": {
        "id": "qV6hENDO5amD",
        "colab_type": "text"
      },
      "source": [
        "# Submission Instructions\n",
        "\n",
        "1. [Go here](https://canvas.calpoly.edu/courses/25458/groups), and add you and your partner (if applicable) to one of the STAT 305 Groups.\n",
        "2. Export this Colab notebook to PDF. Easiest way is File > Print > Save as PDF.\n",
        "3. Double check that the PDF rendered properly (i.e., nothing is cut off).\n",
        "4. Upload the PDF [to Canvas](https://canvas.calpoly.edu/courses/25458/assignments/113387). Only one of you needs to upload the PDF."
      ]
    }
  ]
}
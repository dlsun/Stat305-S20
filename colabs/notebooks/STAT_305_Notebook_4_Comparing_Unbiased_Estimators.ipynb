{
  "nbformat": 4,
  "nbformat_minor": 0,
  "metadata": {
    "kernelspec": {
      "display_name": "Python 3",
      "language": "python",
      "name": "python3"
    },
    "language_info": {
      "codemirror_mode": {
        "name": "ipython",
        "version": 3
      },
      "file_extension": ".py",
      "mimetype": "text/x-python",
      "name": "python",
      "nbconvert_exporter": "python",
      "pygments_lexer": "ipython3",
      "version": "3.6.8"
    },
    "colab": {
      "name": "STAT 305 Notebook 4. Comparing Unbiased Estimators",
      "provenance": [],
      "collapsed_sections": [],
      "include_colab_link": true
    }
  },
  "cells": [
    {
      "cell_type": "markdown",
      "metadata": {
        "id": "view-in-github",
        "colab_type": "text"
      },
      "source": [
        "<a href=\"https://colab.research.google.com/github/dlsun/Stat305-S20/blob/master/colabs/notebooks/STAT_305_Notebook_4_Comparing_Unbiased_Estimators.ipynb\" target=\"_parent\"><img src=\"https://colab.research.google.com/assets/colab-badge.svg\" alt=\"Open In Colab\"/></a>"
      ]
    },
    {
      "cell_type": "markdown",
      "metadata": {
        "id": "lOLjE3UjnssK",
        "colab_type": "text"
      },
      "source": [
        "I encourage you to work through this notebook with a partner so that you can discuss your answers. You should meet over an application such as Discord or Zoom. One person can share their screen with this notebook open."
      ]
    },
    {
      "cell_type": "code",
      "metadata": {
        "id": "qbP3w12k4Rpi",
        "colab_type": "code",
        "colab": {}
      },
      "source": [
        "# This is a code cell.\n",
        "# To run the code in this cell, click on it and press the \"Play\" button.\n",
        "!pip install -q symbulate\n",
        "from symbulate import *\n",
        "import matplotlib.pyplot as plt"
      ],
      "execution_count": null,
      "outputs": []
    },
    {
      "cell_type": "markdown",
      "metadata": {
        "id": "i-R5pUk8XiLC",
        "colab_type": "text"
      },
      "source": [
        "# Example 2 Revisited\n",
        "\n",
        "Recall Example 2, where we wanted to estimate the rate parameter $\\lambda$ of a Poisson process by which radioactive particles reach a Geiger counter.\n",
        "\n",
        "We recorded the number of particles in 1-second intervals for 10 seconds:\n",
        "$$ 0, 3, 1, 0, 0, 1, 0, 2, 0, 4. $$\n",
        "These observations are independent observations from a $\\text{Poisson}(\\mu=\\lambda)$ distribution.\n"
      ]
    },
    {
      "cell_type": "markdown",
      "metadata": {
        "id": "zYpR3tgsgPj1",
        "colab_type": "text"
      },
      "source": [
        "Previously, we estimated $\\lambda$ by the sample mean \n",
        "$$ \\bar X = \\frac{1}{n} \\sum_{i=1}^{n} X_i = \\frac{0 + 3 + 1 + 0 + 0 + 1 + 0 + 2 + 0 + 4}{10} = 1.1. $$\n",
        "We showed that the sample mean is an unbiased estimator of $\\lambda$."
      ]
    },
    {
      "cell_type": "markdown",
      "metadata": {
        "id": "G5_8iTZfghp1",
        "colab_type": "text"
      },
      "source": [
        "What if we estimate $\\lambda$ by the sample variance?\n",
        "\n",
        "\\begin{align*}\n",
        "S^2 &= \\frac{1}{n-1} \\sum_{i=1}^n (X_i - \\bar X)^2 \\\\\n",
        "&= \\frac{1}{9} \\Big((0 - 1.1)^2 + (3 - 1.1)^2 + ... + (4 - 1.1)^2 \\Big) \\\\\n",
        "&= 2.1 \n",
        "\\end{align*}\n",
        "\n",
        "We get a very different estimate of the rate of the Poisson process. The next question asks you to show that this is not a completely ridiculous estimator."
      ]
    },
    {
      "cell_type": "markdown",
      "metadata": {
        "id": "LQakv1fXhDb4",
        "colab_type": "text"
      },
      "source": [
        "**Question 1.** Show that $S^2$ is also unbiased for estimating $\\lambda$. \n",
        "\n",
        "(_Hint:_ Use the result from Notebook 3, that $S^2$ is unbiased for estimating $\\sigma^2 = \\text{Var}[X_1]$.)"
      ]
    },
    {
      "cell_type": "markdown",
      "metadata": {
        "id": "SJeC1HLKhdtU",
        "colab_type": "text"
      },
      "source": [
        "_YOUR MATH HERE_"
      ]
    },
    {
      "cell_type": "markdown",
      "metadata": {
        "id": "YXTAH8Qth5hu",
        "colab_type": "text"
      },
      "source": [
        "# Choosing between Estimators"
      ]
    },
    {
      "cell_type": "markdown",
      "metadata": {
        "id": "pFVGAaWFh8o8",
        "colab_type": "text"
      },
      "source": [
        "Now we have two estimators, $\\bar X$ and $S^2$, both of which are unbiased for estimating $\\lambda$. They given different estimates. How do we choose between them? Let's try to simulate their distributions.\n",
        "\n",
        "To do this, we have to generate i.i.d. observations $X_1, ..., X_n$ from a Poisson distribution."
      ]
    },
    {
      "cell_type": "markdown",
      "metadata": {
        "id": "ePDkTIC4jLCQ",
        "colab_type": "text"
      },
      "source": [
        "**Question 2.** Let $\\lambda = 1.6$. (This was chosen arbitrarily.) Simulate the distributions of $\\bar X$ and $S^2$ by simulating many data sets of size $n=10$ and calculating the sample mean and variance. \n",
        "\n",
        "We know that both $\\bar X$ and $S^2$ are unbiased---that is, both distributions should be centered around $\\lambda=1.6$. Looking at the simulated distributions, which estimator would you prefer, if you were trying to estimate $\\lambda$ as best as possible?"
      ]
    },
    {
      "cell_type": "code",
      "metadata": {
        "id": "580MRbpRiS7t",
        "colab_type": "code",
        "colab": {}
      },
      "source": [
        "lam = 1.6\n",
        "\n",
        "# define a RV which is the mean of 10 independent numbers from a Poisson\n",
        "X_bar = RV(Poisson(lam) ** 10, mean)\n",
        "\n",
        "# TODO: define a RV which is the sample var of 10 independent numbers from a Poisson\n",
        "def sample_var(data):\n",
        "  n = len(data)\n",
        "  x_bar = mean(data)\n",
        "  return 0 # TODO\n",
        "S_sq = RV(Poisson(lam) ** 10, sample_var)\n",
        "\n",
        "# simulate the distributions and compare\n",
        "X_bar.sim(10000).plot(type=\"bar\")\n",
        "S_sq.sim(10000).plot(type=\"bar\")"
      ],
      "execution_count": null,
      "outputs": []
    },
    {
      "cell_type": "markdown",
      "metadata": {
        "id": "JsesgXEPlG24",
        "colab_type": "text"
      },
      "source": [
        "_YOUR EXPLANATION HERE_"
      ]
    },
    {
      "cell_type": "markdown",
      "metadata": {
        "id": "4juGA2UilJwC",
        "colab_type": "text"
      },
      "source": [
        "# The Variance Function"
      ]
    },
    {
      "cell_type": "markdown",
      "metadata": {
        "id": "L06h7QT8lNyY",
        "colab_type": "text"
      },
      "source": [
        "If two estimators are unbiased, we prefer the one with smaller variance, since it will be \"closer\" to the truth.\n",
        "\n",
        "However, our simulation in Question 2 only shows that $\\bar X$ has a smaller variance when $\\lambda = 1.6$.\n"
      ]
    },
    {
      "cell_type": "markdown",
      "metadata": {
        "id": "_3qj4cfAmfqg",
        "colab_type": "text"
      },
      "source": [
        "**Question 3.** Try several values of $\\lambda$. Can you find any value of $\\lambda$ where $S^2$ has a smaller variance than $\\bar X$?"
      ]
    },
    {
      "cell_type": "code",
      "metadata": {
        "id": "a_w4_id6mfdf",
        "colab_type": "code",
        "colab": {}
      },
      "source": [
        "# YOUR CODE HERE"
      ],
      "execution_count": null,
      "outputs": []
    },
    {
      "cell_type": "markdown",
      "metadata": {
        "id": "U3GIYjkGm6TZ",
        "colab_type": "text"
      },
      "source": [
        "After simulating and comparing the distributions for several values of $\\lambda$, you might start to suspect that $\\bar X$ has a smaller variance than $S^2$ for every value of $\\lambda$. But no simulation can prove this, since there are infinitely many possible values of $\\lambda$. To prove this, we need math."
      ]
    },
    {
      "cell_type": "markdown",
      "metadata": {
        "id": "oxzCkHycnwc_",
        "colab_type": "text"
      },
      "source": [
        "**Question 4.** Let $X_1, ..., X_{10}$ be i.i.d. $\\text{Poisson}(\\lambda)$. \n",
        "\n",
        "1. Calculate $\\text{Var}[\\bar X]$. Your answer should be a function of $\\lambda$.\n",
        "2. It can be shown that for i.i.d. observations $X_1, ..., X_n$ from any distribution,\n",
        "$$\\text{Var}[S^2] = \\frac{E[(X_1 - E[X_1])^4] - \\frac{n-3}{n-1} \\text{Var}[X_1]^2}{n}.$$ \n",
        "Apply this formula to the random sample $X_1, ..., X_{10}$ from a Poisson distribution. If you did it correctly, your answer will be a quadratic function of $\\lambda$. (_Hint:_ Set up LOTUS and plug it into [Wolfram Alpha](https://www.wolframalpha.com/).)\n",
        "3. Graph $\\text{Var}[\\bar X]$ and $\\text{Var}[S^2]$ as functions of $\\lambda$. Based on your graph, which estimator seems better?"
      ]
    },
    {
      "cell_type": "markdown",
      "metadata": {
        "id": "b-H8ARqZnwSQ",
        "colab_type": "text"
      },
      "source": [
        "_YOUR EXPLANATION HERE_"
      ]
    },
    {
      "cell_type": "code",
      "metadata": {
        "id": "rd-KynBhIcSP",
        "colab_type": "code",
        "colab": {}
      },
      "source": [
        "# Define a grid of lambda values\n",
        "import numpy as np\n",
        "lams = np.arange(0, 5, step=0.01)\n",
        "\n",
        "# You can graph functions of lambda as follows.\n",
        "plt.plot(lams, lams / 2, '-')\n",
        "plt.plot(lams, lams ** 2 + lams / 2, '-')"
      ],
      "execution_count": null,
      "outputs": []
    },
    {
      "cell_type": "markdown",
      "metadata": {
        "id": "GASbkXGzvB9n",
        "colab_type": "text"
      },
      "source": [
        "# Submission Instructions\n",
        "\n",
        "1. If you worked with a different partner on this notebook than on the previous notebooks, [go here](https://canvas.calpoly.edu/courses/25458/groups) and add both you and your partner (if applicable) to one of the STAT 305 Groups.\n",
        "2. Export this Colab notebook to PDF. Easiest way is File > Print > Save as PDF.\n",
        "3. Double check that the PDF rendered properly (i.e., nothing is cut off).\n",
        "4. Upload the PDF [to Canvas](https://canvas.calpoly.edu/courses/25458/assignments/112160). Only one of you needs to upload the PDF."
      ]
    }
  ]
}
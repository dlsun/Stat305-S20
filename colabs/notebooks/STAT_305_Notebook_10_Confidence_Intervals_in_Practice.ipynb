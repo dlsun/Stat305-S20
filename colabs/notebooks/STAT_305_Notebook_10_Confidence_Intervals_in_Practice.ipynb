{
  "nbformat": 4,
  "nbformat_minor": 0,
  "metadata": {
    "colab": {
      "name": "STAT 305 Notebook 10. Confidence Intervals in Practice",
      "provenance": [],
      "collapsed_sections": [],
      "include_colab_link": true
    },
    "kernelspec": {
      "name": "python3",
      "display_name": "Python 3"
    }
  },
  "cells": [
    {
      "cell_type": "markdown",
      "metadata": {
        "id": "view-in-github",
        "colab_type": "text"
      },
      "source": [
        "<a href=\"https://colab.research.google.com/github/dlsun/Stat305-S20/blob/master/colabs/notebooks/STAT_305_Notebook_10_Confidence_Intervals_in_Practice.ipynb\" target=\"_parent\"><img src=\"https://colab.research.google.com/assets/colab-badge.svg\" alt=\"Open In Colab\"/></a>"
      ]
    },
    {
      "cell_type": "markdown",
      "metadata": {
        "id": "dqm5jy3-K7A_",
        "colab_type": "text"
      },
      "source": [
        "I encourage you to work through this notebook with a partner so that you can discuss your answers. You should meet over an application such as Discord or Zoom. One person can share their screen with this notebook open."
      ]
    },
    {
      "cell_type": "code",
      "metadata": {
        "id": "c7FXZ6syIAUD",
        "colab_type": "code",
        "cellView": "both",
        "colab": {}
      },
      "source": [
        "!pip install -q symbulate\n",
        "from symbulate import *\n",
        "\n",
        "import matplotlib.pyplot as plt"
      ],
      "execution_count": null,
      "outputs": []
    },
    {
      "cell_type": "markdown",
      "metadata": {
        "id": "ApSnu6OPAmub",
        "colab_type": "text"
      },
      "source": [
        "# Confidence Intervals in Practice"
      ]
    },
    {
      "cell_type": "markdown",
      "metadata": {
        "id": "O8KGwf0dAl3N",
        "colab_type": "text"
      },
      "source": [
        "In the previous lesson, we learned that if we have i.i.d. data $X_1, ..., X_n$ from a $\\text{Normal}(\\mu, \\sigma)$ distribution where $\\sigma$ is known, then \n",
        "\n",
        "$$ \\bar X \\pm z_{1-\\alpha}\\frac{\\sigma}{\\sqrt{n}} $$\n",
        "\n",
        "is a confidence interval for $\\mu$. The critical value $z_{1-\\alpha}$ controls the confidence level. For example, if the critical value is $z_{.95} = 2$, then the interval is a 95% confidence interval. In general, a $(1 - \\alpha)$ confidence interval is an interval with a $(1 - \\alpha)$ probability of covering $\\mu$."
      ]
    },
    {
      "cell_type": "markdown",
      "metadata": {
        "id": "ei0mSYu_pu9I",
        "colab_type": "text"
      },
      "source": [
        "The confidence intervals for $\\mu$ that we constructed in the last lesson were unrealistic for two reasons:\n",
        "\n",
        "1. We had to assume that the data $X_1, ..., X_n$ come from a normal distribution.\n",
        "2. We had to know the standard deviation $\\sigma$ of each observation.\n",
        "\n",
        "While these assumptions might make sense for repeated measurements of a physical phenomenon (such as tire pressure), they are not reasonable for most data sets. What do we do if we want a confidence interval for $\\mu$ but are not willing to assume normality or a value for the standard deviation?"
      ]
    },
    {
      "cell_type": "markdown",
      "metadata": {
        "id": "aW2cvsWMsJtr",
        "colab_type": "text"
      },
      "source": [
        "## Central Limit Theorem to the Rescue\n",
        "\n",
        "The Central Limit Theorem (partly) saves us. It says that no matter the distribution of $X_1, ..., X_n$, $\\bar X$ is _approximately_ normal when $n$ is large. Therefore, we can pretend that $\\bar X$ is normal for the purposes of constructing confidence intervals.\n",
        "\n",
        "So the interval above\n",
        "$$ \\bar X \\pm z_{1-\\alpha} \\frac{\\text{SD}[X_1]}{\\sqrt{n}} $$\n",
        "has _approximately_ a $(1 -\\alpha)$ probability of covering $\\mu$. The closer that $\\bar X$ is to normal, the closer the coverage probability is to $1-\\alpha$."
      ]
    },
    {
      "cell_type": "markdown",
      "metadata": {
        "id": "yhE_1irGR12X",
        "colab_type": "text"
      },
      "source": [
        "However, this still assumes that $\\text{SD}[X_1]$ is known. Often, we will also need to estimate $\\text{SD}[X_1]$ from the data as well. A generic estimator of $\\text{SD}[X_1]$, that works in all cases, is the sample standard deviation:\n",
        "\n",
        "$$ S = \\sqrt{\\frac{1}{n-1} \\sum_{i=1}^n (X_i - \\bar X )^2 }. $$\n",
        "\n",
        "In specific situations, there may be better estimators of $\\text{SD}[X_1]$. (We will see an example below.)"
      ]
    },
    {
      "cell_type": "markdown",
      "metadata": {
        "id": "bSgMucdZyKeD",
        "colab_type": "text"
      },
      "source": [
        "# Example 2 Revisited\n",
        "\n",
        "Recall Example 2, where we wanted to estimate the rate parameter $\\lambda$ of a Poisson process by which radioactive particles reach a Geiger counter.\n",
        "\n",
        "We recorded the number of particles in 1-second intervals for 10 seconds:\n",
        "$$ 0, 3, 1, 0, 0, 1, 0, 2, 0, 4. $$\n",
        "\n",
        "Recall that an unbiased estimator of $\\lambda$ is the sample mean $\\bar X$."
      ]
    },
    {
      "cell_type": "markdown",
      "metadata": {
        "id": "c_KIcQMByWkb",
        "colab_type": "text"
      },
      "source": [
        "**Question 1.** Calculate a 95% confidence interval for $\\lambda$ based on $\\bar X$. Explain where you use the Central Limit Theorem. You will need to calculate an estimate of $\\text{SD}[X_1]$. There are multiple reasonable choices; just choose one."
      ]
    },
    {
      "cell_type": "markdown",
      "metadata": {
        "id": "ZQCHARn7zqj1",
        "colab_type": "text"
      },
      "source": [
        "_YOUR ANSWER HERE_"
      ]
    },
    {
      "cell_type": "markdown",
      "metadata": {
        "id": "10C8I_9FzsTr",
        "colab_type": "text"
      },
      "source": [
        "# Coverage of Confidence Intervals\n",
        "\n",
        "The confidence interval that we just calculated may not have a 95% probability of covering $\\lambda$ because it relies on two approximations:\n",
        "\n",
        "1. the accuracy of the normal approximation for $\\bar X$\n",
        "2. how close our estimate of $\\text{SD}[X_1]$ is to the true value\n",
        "\n",
        "It is useful to know how close the coverage probability is to the advertised value of 95%. We conduct a simulation study to find out."
      ]
    },
    {
      "cell_type": "markdown",
      "metadata": {
        "id": "RnW5XAXc1LFc",
        "colab_type": "text"
      },
      "source": [
        "Let's evaluate a 95% confidence interval that is constructed using the sample standard deviation $S$ (defined above), in place of the unknown value of $\\text{SD}[X_1]$. Let's do the following:\n",
        "\n",
        "- pick an arbitrary value of $\\lambda$\n",
        "- repeatedly simulate $n=10$ independent observations from a $\\text{Poisson}(\\lambda)$ distribution\n",
        "- form the (approximate) 95% confidence interval from each simulated data set\n",
        "- check if each interval actually contains $\\lambda$\n",
        "\n",
        "and tabulate the results."
      ]
    },
    {
      "cell_type": "code",
      "metadata": {
        "id": "vi6Tt85EwtA_",
        "colab_type": "code",
        "colab": {}
      },
      "source": [
        "# Construct 95% confidence interval based on data\n",
        "def construct_95_ci(data):\n",
        "  n = len(data)\n",
        "  X_bar = mean(data)\n",
        "  S = sd(data)\n",
        "  return X_bar - 2 * S / sqrt(n), X_bar + 2 * S / sqrt(n)\n",
        "\n",
        "# Define lambda and a function that checks whether lambda is in an interval\n",
        "lam = 0.8\n",
        "def contains_lam(interval):\n",
        "  lower, upper = interval\n",
        "  return lower < lam < upper\n",
        "\n",
        "# Simulate n observations from a Poisson lambda and construct 95% CI\n",
        "n = 10\n",
        "X = RV(Poisson(lam) ** n)\n",
        "X.sim(1000).apply(construct_95_ci)"
      ],
      "execution_count": null,
      "outputs": []
    },
    {
      "cell_type": "markdown",
      "metadata": {
        "id": "2erv67bk4Fvt",
        "colab_type": "text"
      },
      "source": [
        "Now, how many of these intervals actually contain the true $\\lambda$ of $0.8$?"
      ]
    },
    {
      "cell_type": "code",
      "metadata": {
        "id": "uYfi4sro3_Xa",
        "colab_type": "code",
        "colab": {}
      },
      "source": [
        "X.sim(1000).apply(construct_95_ci).count(contains_lam)"
      ],
      "execution_count": null,
      "outputs": []
    },
    {
      "cell_type": "markdown",
      "metadata": {
        "id": "lIyvDrgi3SJA",
        "colab_type": "text"
      },
      "source": [
        "The 95% interval appears to cover the true $\\lambda$ of $0.8$ only about 90% of the time. So the approximations seem to matter a lot."
      ]
    },
    {
      "cell_type": "markdown",
      "metadata": {
        "id": "n2ghE-qG3ky-",
        "colab_type": "text"
      },
      "source": [
        "The coverage probability might vary by $\\lambda$, so we repeat the simulation for a grid of $\\lambda$ values.\n",
        "\n"
      ]
    },
    {
      "cell_type": "code",
      "metadata": {
        "id": "LCnwBAK03R74",
        "colab_type": "code",
        "colab": {}
      },
      "source": [
        "n = 10\n",
        "\n",
        "# Construct 95% confidence interval based on data\n",
        "def construct_95_ci(data):\n",
        "  n = len(data)\n",
        "  X_bar = mean(data)\n",
        "  S = sd(data)\n",
        "  return X_bar - 2 * S / sqrt(n), X_bar + 2 * S / sqrt(n)\n",
        "\n",
        "# Define grid of lambda values and placeholder for the coverage probabilities\n",
        "lams = np.arange(start=0.2, stop=4.0, step=0.2)\n",
        "coverage_probs = []\n",
        "\n",
        "# Iterate over lambda values\n",
        "for lam in lams:\n",
        "  # Define a function that checks whether lam is in an interval\n",
        "  def contains_lam(interval):\n",
        "    lower, upper = interval\n",
        "    return lower < lam < upper\n",
        "\n",
        "  # Simulate observations from a Poisson lambda, form CI, see if it contains lambda\n",
        "  X = RV(Poisson(lam) ** n)\n",
        "  coverage_probs.append(\n",
        "      X.sim(1000).apply(construct_95_ci).count(contains_lam) / 1000\n",
        "  )\n",
        "\n",
        "# Plot the coverage probability as a function of lambda\n",
        "plt.plot(lams, coverage_probs)\n",
        "plt.xlabel(r\"$\\lambda$\")\n",
        "plt.ylabel(r\"Coverage Probability\")\n",
        "# Plot the desired coverage probability (95%)\n",
        "plt.axhline(y=0.95, linestyle=\"--\", color=\"red\")"
      ],
      "execution_count": null,
      "outputs": []
    },
    {
      "cell_type": "markdown",
      "metadata": {
        "id": "GmZLZvNs5RUv",
        "colab_type": "text"
      },
      "source": [
        "The confidence interval is advertised as having 95% probability of covering $\\lambda$, but clearly the actual probability is quite a bit lower, closer to 90%.\n",
        "\n",
        "This curve is quite wiggly because of simulation noise. We could make it smoother by increasing the number of simulations, but that would increase the time the simulation takes. We did 1000 simulations above for each value of $\\lambda$; you may want to try increasing it to 10000 to see the effect it has on the runtime and on the output."
      ]
    },
    {
      "cell_type": "markdown",
      "metadata": {
        "id": "KFkisado6eVf",
        "colab_type": "text"
      },
      "source": [
        "In the confidence interval above, we estimated $\\text{SD}[X_1]$ using the sample standard deviation $S$.\n",
        "\n",
        "However, for Poisson random variables, there is slightly different confidence interval we could construct. Because $\\text{SD}[X_1] = \\sqrt{\\lambda}$, we could also estimate it by $\\sqrt{\\bar X}$, since $\\bar X$ is an estimate for $\\lambda$."
      ]
    },
    {
      "cell_type": "markdown",
      "metadata": {
        "id": "yhhzbvmv5sWh",
        "colab_type": "text"
      },
      "source": [
        "**Question 2.** Conduct a simulation study to analyze the coverage probability of a 95% confidence interval that uses $\\sqrt{\\bar X}$ as the estimator of $\\text{SD}[X_1]$ in the formula, instead of the generic estimator $S$. (You can do this by modifying the simulation study above.) \n",
        "\n",
        "Does this confidence interval have better coverage than the confidence interval above?"
      ]
    },
    {
      "cell_type": "code",
      "metadata": {
        "id": "2bGbMEnb5Qxc",
        "colab_type": "code",
        "colab": {}
      },
      "source": [
        "# YOUR CODE HERE"
      ],
      "execution_count": null,
      "outputs": []
    },
    {
      "cell_type": "markdown",
      "metadata": {
        "id": "XJmtENoD-VTk",
        "colab_type": "text"
      },
      "source": [
        "_YOUR ANALYSIS HERE_"
      ]
    },
    {
      "cell_type": "markdown",
      "metadata": {
        "id": "qV6hENDO5amD",
        "colab_type": "text"
      },
      "source": [
        "# Submission Instructions\n",
        "\n",
        "You do not need to submit this notebook. However, a solid understanding of this material is necessary to do the final project."
      ]
    }
  ]
}
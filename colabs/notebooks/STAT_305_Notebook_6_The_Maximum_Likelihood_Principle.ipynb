{
  "nbformat": 4,
  "nbformat_minor": 0,
  "metadata": {
    "colab": {
      "name": "STAT 305 Notebook 6. The Maximum Likelihood Principle",
      "provenance": [],
      "collapsed_sections": [],
      "include_colab_link": true
    },
    "kernelspec": {
      "name": "python3",
      "display_name": "Python 3"
    }
  },
  "cells": [
    {
      "cell_type": "markdown",
      "metadata": {
        "id": "view-in-github",
        "colab_type": "text"
      },
      "source": [
        "<a href=\"https://colab.research.google.com/github/dlsun/Stat305-S20/blob/master/colabs/notebooks/STAT_305_Notebook_6_The_Maximum_Likelihood_Principle.ipynb\" target=\"_parent\"><img src=\"https://colab.research.google.com/assets/colab-badge.svg\" alt=\"Open In Colab\"/></a>"
      ]
    },
    {
      "cell_type": "markdown",
      "metadata": {
        "id": "dqm5jy3-K7A_",
        "colab_type": "text"
      },
      "source": [
        "I encourage you to work through this notebook with a partner so that you can discuss your answers. You should meet over an application such as Discord or Zoom. One person can share their screen with this notebook open."
      ]
    },
    {
      "cell_type": "code",
      "metadata": {
        "id": "c7FXZ6syIAUD",
        "colab_type": "code",
        "cellView": "both",
        "colab": {}
      },
      "source": [
        "!pip install -q symbulate\n",
        "from symbulate import *\n",
        "\n",
        "import matplotlib.pyplot as plt"
      ],
      "execution_count": null,
      "outputs": []
    },
    {
      "cell_type": "markdown",
      "metadata": {
        "id": "ApSnu6OPAmub",
        "colab_type": "text"
      },
      "source": [
        "# Maximum Likelihood Principle"
      ]
    },
    {
      "cell_type": "markdown",
      "metadata": {
        "id": "wliN8wieKHME",
        "colab_type": "text"
      },
      "source": [
        "We have a skew die, and we want to know the probability $p$ that it lands on an ace. Suppose we roll it 45 times, and aces come up 10 times. What is our estimate of $p$, the probability of an ace?\n",
        "\n",
        "Intuitively, the best estimate is $\\hat p = 10 / 45 \\approx .222$. Is there a way we could have come up with this estimate if we did not know it? \n",
        "\n",
        "We know that the number of aces $X$ follows a \n",
        "\\[ \\text{Binomial}(n=45, p) \\]\n",
        "distribution (assuming that the rolls are independent, of course). If we write down the p.m.f., there are two unknowns:\n",
        "$$ \\binom{45}{x} p^x (1 - p)^{n-x}. $$\n",
        "Previously, we assumed a value of $p$ and used this formula to calculate the probability of $x$. \n",
        "\n",
        "What if we turned it around? In this case, we know that $X = 10$. What if we plugged in $10$ for $x$ and viewed the above formula as a function of $p$? This is once again an example of how statistics is the inverse of probability.\n",
        "\n",
        "![](https://github.com/dlsun/Stat425F19/blob/master/notes/img/prob_stat.png?raw=1)\n",
        "\n",
        "The following video explains how this works."
      ]
    },
    {
      "cell_type": "code",
      "metadata": {
        "id": "GmMNJ-c9ZdRn",
        "colab_type": "code",
        "colab": {
          "base_uri": "https://localhost:8080/",
          "height": 471
        },
        "outputId": "c77d9e84-273d-45bb-df87-e22cdc6215f1"
      },
      "source": [
        "from IPython.display import YouTubeVideo\n",
        "YouTubeVideo(\"eI6ztPCmNYc\", width=800, height=450)"
      ],
      "execution_count": null,
      "outputs": [
        {
          "output_type": "execute_result",
          "data": {
            "text/html": [
              "\n",
              "        <iframe\n",
              "            width=\"800\"\n",
              "            height=\"450\"\n",
              "            src=\"https://www.youtube.com/embed/eI6ztPCmNYc\"\n",
              "            frameborder=\"0\"\n",
              "            allowfullscreen\n",
              "        ></iframe>\n",
              "        "
            ],
            "text/plain": [
              "<IPython.lib.display.YouTubeVideo at 0x7efc23f0b828>"
            ],
            "image/jpeg": "[encoded data removed]"
          },
          "metadata": {
            "tags": []
          },
          "execution_count": 21
        }
      ]
    },
    {
      "cell_type": "markdown",
      "metadata": {
        "id": "ce0bcUWAfbJ0",
        "colab_type": "text"
      },
      "source": [
        "The code below graphs the likelihood for $X = 10$, as a function of $p$. (Try modifying it to graph the likelihoods for $X = 14$ and $X = 6$.)"
      ]
    },
    {
      "cell_type": "code",
      "metadata": {
        "id": "B3mV7WqXfazP",
        "colab_type": "code",
        "colab": {}
      },
      "source": [
        "ps = np.arange(0, 1, step=.01)\n",
        "\n",
        "# You can define the likelihood manually.\n",
        "def choose(n, k):\n",
        "  return factorial(n) / (factorial(k) * factorial(n - k))\n",
        "\n",
        "def likelihood(p):\n",
        "  return (choose(45, 10) * \n",
        "          p ** 10 * \n",
        "          (1 - p) ** (45 - 10))\n",
        "\n",
        "# Or you could use built-in distributions in Symbulate.\n",
        "#def likelihood(p):\n",
        "#  return Binomial(n=45, p=p).pmf(10)\n",
        "\n",
        "plt.plot(ps, [likelihood(p) for p in ps], \"-\")"
      ],
      "execution_count": null,
      "outputs": []
    },
    {
      "cell_type": "markdown",
      "metadata": {
        "id": "n0NfiEy2hApS",
        "colab_type": "text"
      },
      "source": [
        "This likelihood is maximized somewhere between $0.20$ and $0.25$. To find out exactly where, we print out the value of the likelihood for all values of $p$ between $0.20$ and $0.25$, in increments of $0.001$."
      ]
    },
    {
      "cell_type": "code",
      "metadata": {
        "id": "FD1h1BT0gu9c",
        "colab_type": "code",
        "colab": {}
      },
      "source": [
        "for p in np.arange(0.2, 0.25, step=0.001):\n",
        "  print(round(p, 3), \n",
        "        likelihood(p))"
      ],
      "execution_count": null,
      "outputs": []
    },
    {
      "cell_type": "markdown",
      "metadata": {
        "id": "AGgIyn7Vhe_F",
        "colab_type": "text"
      },
      "source": [
        "The likelihood is maximized at $\\hat p \\approx 0.222$. If desired, we could obtain more digits of precision by zooming in on the region around $0.222$. This is the maximum likelihood estimate, and it coincides with the intuitive estimate of $\\hat p = 10 / 45$."
      ]
    },
    {
      "cell_type": "markdown",
      "metadata": {
        "id": "0fEDvWHzYYXT",
        "colab_type": "text"
      },
      "source": [
        "## General Theory\n",
        "\n",
        "The **likelihood** $L$ is the probability as a function of the parameter (e.g., $p, \\mu, N$), which we denote by $\\theta$ in general:\n",
        "$$ L_{x}(\\theta) \\overset{\\text{def}}{=} f_{\\theta}(x). $$\n",
        "\n",
        "To come up with an estimator of $\\theta$, the **maximum likelihood principle** says that we should choose $\\theta$ to maximize the likelihood. That is, the maximum likelihood estimate is \n",
        "$$ \\hat\\theta_{\\text{ML}} = \\underset{\\theta}{\\arg\\max} L_x(\\theta). $$"
      ]
    },
    {
      "cell_type": "markdown",
      "metadata": {
        "id": "mJOHAC-qPDyW",
        "colab_type": "text"
      },
      "source": [
        "# Example 4. Spies and Agents\n",
        "\n"
      ]
    },
    {
      "cell_type": "markdown",
      "metadata": {
        "id": "qgBpJ12VdF1H",
        "colab_type": "text"
      },
      "source": [
        "A team of 30 people consists of both agents and spies. Agents have a $2/3$ chance of succeeding on their mission; spies only have a $1/3$ chance of succeeding. The proportion of spies $s$ is unknown. Each of the 30 team members independently goes out on a mission, and 19 of the missions are successful. Based on this data, what is your estimate $\\hat s$ of the proportion of spies?"
      ]
    },
    {
      "cell_type": "markdown",
      "metadata": {
        "id": "ec9N3ygheEnO",
        "colab_type": "text"
      },
      "source": [
        "**Question 1.** Write down the likelihood of observing 19 successful missions out of 30? (_Hint:_ First, calculate the overall probability of a successful mission in terms of $s$. Then, since missions are independent, the number of successful missions follows one of the named distributions we have learned.)"
      ]
    },
    {
      "cell_type": "markdown",
      "metadata": {
        "id": "OH2gDh8ke2aq",
        "colab_type": "text"
      },
      "source": [
        "_YOUR ANSWER HERE_\n",
        "\n",
        "$$ L_{x=19}(s) = ... $$"
      ]
    },
    {
      "cell_type": "markdown",
      "metadata": {
        "id": "Ic3O05nSfP7C",
        "colab_type": "text"
      },
      "source": [
        "**Question 2.** Graph the likelihood (for 19 successful missions) as a function of $s$. What appears to be the MLE?"
      ]
    },
    {
      "cell_type": "code",
      "metadata": {
        "id": "8CWRMf27dFoX",
        "colab_type": "code",
        "colab": {}
      },
      "source": [
        "# YOUR CODE HERE"
      ],
      "execution_count": null,
      "outputs": []
    },
    {
      "cell_type": "markdown",
      "metadata": {
        "id": "p_cC44oe58xm",
        "colab_type": "text"
      },
      "source": [
        "_YOUR EXPLANATION HERE_"
      ]
    },
    {
      "cell_type": "markdown",
      "metadata": {
        "id": "WJ0fYqyQTTDi",
        "colab_type": "text"
      },
      "source": [
        "# Example 5. Capture-Recapture\n",
        "\n",
        "Suppose that you want to estimate the number of fish in a lake; call this number $N$. In a technique known as capture-recapture, you first capture a random sample of fish, let's say 30 fish. You mark these 30 fish so they can be identified later and then release them back into the\n",
        "lake. You allow them ample time to mingle thoroughly with the other fish, and then you capture another random sample of fish, let's say 20 fish. Then you count how many of the fish captured in the second sample are marked as having already been caught in the first sample. Let's say you observe that 7 of these 20 fish had already been caught the first time."
      ]
    },
    {
      "cell_type": "markdown",
      "metadata": {
        "id": "NFk68CrsZwjr",
        "colab_type": "text"
      },
      "source": [
        "**Question 3.** Write down the p.m.f. of the number of fish that are tagged in the second sample. Leave your answer in terms of $N$ and $x$.\n",
        "\n",
        "(_Hint:_ This distribution is one of the named distributions that we learned. Note that a fish cannot be caught twice in the same sample.)"
      ]
    },
    {
      "cell_type": "markdown",
      "metadata": {
        "id": "cjihOcIg4qvb",
        "colab_type": "text"
      },
      "source": [
        "_YOUR ANSWER HERE_\n",
        "\n",
        "$$ f_N(x) = ... $$"
      ]
    },
    {
      "cell_type": "markdown",
      "metadata": {
        "id": "1Esl8C7c4qsT",
        "colab_type": "text"
      },
      "source": [
        "**Question 4.** Graph the likelihood (for observing 7 tagged fish), as a function on $N$. Keep in mind that $N$ must be an integer. What is the MLE of $N$, the number of fish in the lake?"
      ]
    },
    {
      "cell_type": "code",
      "metadata": {
        "id": "S88ziKQAK9QH",
        "colab_type": "code",
        "colab": {}
      },
      "source": [
        "# YOUR CODE HERE"
      ],
      "execution_count": null,
      "outputs": []
    },
    {
      "cell_type": "markdown",
      "metadata": {
        "id": "RU_qHPdic6DW",
        "colab_type": "text"
      },
      "source": [
        "_YOUR EXPLANATION HERE_"
      ]
    },
    {
      "cell_type": "markdown",
      "metadata": {
        "id": "qV6hENDO5amD",
        "colab_type": "text"
      },
      "source": [
        "# Submission Instructions\n",
        "\n",
        "1. [Go here](https://canvas.calpoly.edu/courses/25458/groups), and add you and your partner (if applicable) to one of the STAT 305 Groups.\n",
        "2. Export this Colab notebook to PDF. Easiest way is File > Print > Save as PDF.\n",
        "3. Double check that the PDF rendered properly (i.e., nothing is cut off).\n",
        "4. Upload the PDF [to Canvas](https://canvas.calpoly.edu/courses/25458/assignments/111116). Only one of you needs to upload the PDF."
      ]
    }
  ]
}
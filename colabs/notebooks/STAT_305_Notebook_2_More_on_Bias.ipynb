{
  "nbformat": 4,
  "nbformat_minor": 0,
  "metadata": {
    "kernelspec": {
      "display_name": "Python 3",
      "language": "python",
      "name": "python3"
    },
    "language_info": {
      "codemirror_mode": {
        "name": "ipython",
        "version": 3
      },
      "file_extension": ".py",
      "mimetype": "text/x-python",
      "name": "python",
      "nbconvert_exporter": "python",
      "pygments_lexer": "ipython3",
      "version": "3.6.8"
    },
    "colab": {
      "name": "STAT 305 Notebook 2. More on Bias",
      "provenance": [],
      "collapsed_sections": [],
      "include_colab_link": true
    }
  },
  "cells": [
    {
      "cell_type": "markdown",
      "metadata": {
        "id": "view-in-github",
        "colab_type": "text"
      },
      "source": [
        "<a href=\"https://colab.research.google.com/github/dlsun/Stat305-S20/blob/master/colabs/notebooks/STAT_305_Notebook_2_More_on_Bias.ipynb\" target=\"_parent\"><img src=\"https://colab.research.google.com/assets/colab-badge.svg\" alt=\"Open In Colab\"/></a>"
      ]
    },
    {
      "cell_type": "markdown",
      "metadata": {
        "id": "lOLjE3UjnssK",
        "colab_type": "text"
      },
      "source": [
        "I encourage you to work through this notebook with a partner so that you can discuss your answers. You should meet over an application such as Discord or Zoom. One person can share their screen with this notebook open."
      ]
    },
    {
      "cell_type": "code",
      "metadata": {
        "id": "qbP3w12k4Rpi",
        "colab_type": "code",
        "colab": {}
      },
      "source": [
        "# This is a code cell.\n",
        "# To run the code in this cell, click on it and press the \"Play\" button.\n",
        "!pip install -q symbulate\n",
        "from symbulate import *\n",
        "import matplotlib.pyplot as plt"
      ],
      "execution_count": null,
      "outputs": []
    },
    {
      "cell_type": "markdown",
      "metadata": {
        "id": "VpkPaE553_80",
        "colab_type": "text"
      },
      "source": [
        "# Example 2: Estimating the Rate of a Poisson Process\n",
        "\n",
        "Suppose we want to estimate the background radiation levels in town. That is, we know that radioactive particles should hit a Geiger counter according to a Poisson process, and our goal is to estimate the rate $\\lambda$ (in particles per second). \n",
        "\n",
        "We record the number of particles in 1-second intervals for 10 seconds.\n",
        "$$ 0, 3, 1, 0, 0, 1, 0, 2, 0, 4. $$\n",
        "We estimate $\\lambda$ by the sample mean:\n",
        "$$ \\hat\\lambda = \\frac{0 + 3 + 1 + 0 + 0 + 1 + 0 + 2 + 0 + 4}{10} = 1.1. $$\n",
        "\n",
        "Is this a good estimate or not?"
      ]
    },
    {
      "cell_type": "markdown",
      "metadata": {
        "id": "VG7xYIx-DSKU",
        "colab_type": "text"
      },
      "source": [
        "In the last lesson, you learned that we cannot tell whether any individual estimate is good or bad. We can only evaluate the procedure for coming up with estimates. The procedure is called an **estimator**."
      ]
    },
    {
      "cell_type": "markdown",
      "metadata": {
        "id": "SEU5fqCnGUhV",
        "colab_type": "text"
      },
      "source": [
        "In this case, the estimator based on data $X_1, X_2, \\ldots, X_{10}$ is \n",
        "$$ \\hat\\lambda = \\bar X \\overset{\\text{def}}{=} \\frac{X_1 + X_2 + \\ldots + X_{10}}{10}. $$\n",
        "The $X_i$s in this case are i.i.d. $\\text{Poisson}(\\mu = \\lambda \\cdot 1)$ random variables, since they represent the number of arrivals on non-overlapping intervals of length 1 second."
      ]
    },
    {
      "cell_type": "markdown",
      "metadata": {
        "id": "agUtg7QmPAcw",
        "colab_type": "text"
      },
      "source": [
        "Let's simulate the distribution of $\\hat\\lambda$ to get a sense of how good it is. Of course, to do the simulation, we need to assume a value for the true rate $\\lambda$. Let's start by assuming $\\lambda = 0.8$."
      ]
    },
    {
      "cell_type": "code",
      "metadata": {
        "id": "VKRhuYwpPANG",
        "colab_type": "code",
        "colab": {}
      },
      "source": [
        "lam = 0.8\n",
        "lam_hat = RV(Poisson(lam) ** 10, mean)\n",
        "lam_hat.sim(10000).plot()"
      ],
      "execution_count": null,
      "outputs": []
    },
    {
      "cell_type": "markdown",
      "metadata": {
        "id": "fVQDu0r0Re9n",
        "colab_type": "text"
      },
      "source": [
        "The estimator seems to be centered around the true rate $\\lambda = 0.8$, which is good. We can check this by simulating the expected value."
      ]
    },
    {
      "cell_type": "code",
      "metadata": {
        "id": "L3bEJ-9xRnP-",
        "colab_type": "code",
        "colab": {}
      },
      "source": [
        "lam_hat.sim(10000).mean()"
      ],
      "execution_count": null,
      "outputs": []
    },
    {
      "cell_type": "markdown",
      "metadata": {
        "id": "U7BRu5vLTxi1",
        "colab_type": "text"
      },
      "source": [
        "**Question 1.** Simulate the distribution of $\\hat\\lambda$ for at least 10 different values of $\\lambda$. What appears to be the bias of $\\hat\\lambda$ at each of $\\lambda$ you tried?"
      ]
    },
    {
      "cell_type": "code",
      "metadata": {
        "id": "DoaaTViVTxYA",
        "colab_type": "code",
        "colab": {}
      },
      "source": [
        "# YOUR CODE HERE"
      ],
      "execution_count": null,
      "outputs": []
    },
    {
      "cell_type": "markdown",
      "metadata": {
        "id": "lb1w15gAVLlL",
        "colab_type": "text"
      },
      "source": [
        "**YOUR EXPLANATION HERE**"
      ]
    },
    {
      "cell_type": "markdown",
      "metadata": {
        "id": "KgPzRo4qVNjd",
        "colab_type": "text"
      },
      "source": [
        "Of course, the only way to be sure that $\\hat\\lambda$ is unbiased is to calculate the expected value exactly, rather than relying on simulation.\n",
        "\n",
        "**Question 2.** Calculate the bias of $\\hat\\lambda$, using properties of expected value (especially linearity of expectation). Recall that $E[X_i] = \\mu$ for a $\\text{Poisson}(\\mu)$ distribution."
      ]
    },
    {
      "cell_type": "markdown",
      "metadata": {
        "id": "1VIMNkS-V0qi",
        "colab_type": "text"
      },
      "source": [
        "**YOUR EXPLANATION HERE**"
      ]
    },
    {
      "cell_type": "markdown",
      "metadata": {
        "id": "kG3mq7Py9Wts",
        "colab_type": "text"
      },
      "source": [
        "# Example 3: Measurement Error Model\n",
        "\n",
        "Before completing this example, make sure you have read [this excerpt about how the National Bureau of Standards estimates the weight of a kilogram](https://github.com/dlsun/Stat305-S20/raw/master/MeasurementError.pdf)."
      ]
    },
    {
      "cell_type": "markdown",
      "metadata": {
        "id": "Td3Eac18YES0",
        "colab_type": "text"
      },
      "source": [
        "The true weight of NB10 is an unknown number $\\mu$. It is very close to 10 grams (its weight is between 9.999 and 10.000), so we will report all of our measurements in micrograms below 10 grams. \n",
        "\n",
        "The 100 measurements of the weight of NB10 produced the following data (in micrograms below 10 grams)."
      ]
    },
    {
      "cell_type": "code",
      "metadata": {
        "id": "acBBIu9UcTeu",
        "colab_type": "code",
        "colab": {}
      },
      "source": [
        "data = [409,400,406,399,402,406,401,403,401,403,398,403,407,402,401,399,400,401,405,402,408,399,399,402,399,397,407,401,399,401,403,400,410,401,407,423,406,406,402,405,405,409,399,402,407,406,413,409,404,402,404,406,407,405,411,410,410,410,401,402,404,405,392,407,406,404,403,408,404,407,412,406,409,400,408,404,401,404,408,406,408,406,401,412,393,437,418,415,404,401,401,407,412,375,409,406,398,406,403,404]"
      ],
      "execution_count": null,
      "outputs": []
    },
    {
      "cell_type": "markdown",
      "metadata": {
        "id": "3R13c2TXdQ-5",
        "colab_type": "text"
      },
      "source": [
        "To estimate the true weight of NB10 from these 100 measurements, it makes sense to take their mean."
      ]
    },
    {
      "cell_type": "code",
      "metadata": {
        "id": "eQ6whJCfdszk",
        "colab_type": "code",
        "colab": {}
      },
      "source": [
        "mean(data)"
      ],
      "execution_count": null,
      "outputs": []
    },
    {
      "cell_type": "markdown",
      "metadata": {
        "id": "gSx2VX2-d0DL",
        "colab_type": "text"
      },
      "source": [
        "Our estimate for the weight of NB10 is 404.59 micrograms below 10 grams, or 9.99959541 grams.\n",
        "\n",
        "Is this a good estimate or not? It is hard to tell. All we can do is evaluate the estimator---that is, our procedure for coming up with this estimate."
      ]
    },
    {
      "cell_type": "markdown",
      "metadata": {
        "id": "b5DeuFVbePoj",
        "colab_type": "text"
      },
      "source": [
        "Let's assume that our 100 measurements $X_1, X_2, \\ldots, X_{100}$ come from a $\\text{Normal}(\\mu, \\sigma)$ distribution, where both $\\mu$ and $\\sigma$ are unknown. \n",
        "\n",
        "- $\\mu$ corresponds to the true weight of NB10.\n",
        "- $\\sigma$ corresponds to the precision of our machine."
      ]
    },
    {
      "cell_type": "markdown",
      "metadata": {
        "id": "D5yk80mkea_B",
        "colab_type": "text"
      },
      "source": [
        "Our estimator of $\\mu$ is the sample mean \n",
        "$$ \\hat\\mu = \\bar X \\overset{\\text{def}}{=} \\frac{\\sum_{i=1}^{100} X_i}{100}. $$\n",
        "\n",
        "**Question 3.** Calculate the expected value and bias of the estimator $\\hat\\mu$. Is it unbiased? Does your answer depend on what $\\sigma$ is?"
      ]
    },
    {
      "cell_type": "markdown",
      "metadata": {
        "id": "sGreZudTe3gI",
        "colab_type": "text"
      },
      "source": [
        "**YOUR ANSWER HERE**"
      ]
    },
    {
      "cell_type": "markdown",
      "metadata": {
        "id": "YYHyyiZNfWKJ",
        "colab_type": "text"
      },
      "source": [
        "# General Theory"
      ]
    },
    {
      "cell_type": "markdown",
      "metadata": {
        "id": "N9L6KdD5fFug",
        "colab_type": "text"
      },
      "source": [
        "If $X_1, X_2, \\ldots, X_n$ are i.i.d. from _any_ distribution, then the sample mean \n",
        "$$\\bar X \\overset{\\text{def}}{=} \\frac{X_1 + X_2 + \\ldots + X_n}{n} $$\n",
        "is an unbiased estimator of the true mean $\\mu \\overset{\\text{def}}{=} E[X_1]$."
      ]
    },
    {
      "cell_type": "markdown",
      "metadata": {
        "id": "B5_a-iHMgF_2",
        "colab_type": "text"
      },
      "source": [
        "**Question 4.** It is obvious that this general theory implies that the estimators $\\hat\\lambda$ in Example 2 and $\\hat\\mu$ in Example 3 are unbiased. But it also implies that the estimator $\\hat p$ in Example 1 (from the previous notebook) is unbiased. Explain why."
      ]
    },
    {
      "cell_type": "markdown",
      "metadata": {
        "id": "T7E7kVg_ge-s",
        "colab_type": "text"
      },
      "source": [
        "**YOUR ANSWER HERE**"
      ]
    },
    {
      "cell_type": "markdown",
      "metadata": {
        "id": "GASbkXGzvB9n",
        "colab_type": "text"
      },
      "source": [
        "# Submission Instructions\n",
        "\n",
        "1. If you worked with a different partner on this notebook than on the previous notebook, [go here](https://canvas.calpoly.edu/courses/25458/groups) and add both of you (if applicable) to one of the STAT 305 Groups.\n",
        "2. Export this Colab notebook to PDF. Easiest way is File > Print > Save as PDF.\n",
        "3. Double check that the PDF rendered properly (i.e., nothing is cut off).\n",
        "4. Upload the PDF [to Canvas](https://canvas.calpoly.edu/courses/25458/assignments/111361). Only one of you needs to upload the PDF."
      ]
    }
  ]
}